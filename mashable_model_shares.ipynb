{
 "cells": [
  {
   "cell_type": "code",
   "execution_count": 62,
   "metadata": {
    "collapsed": true
   },
   "outputs": [],
   "source": [
    "%matplotlib inline\n",
    "from __future__ import division\n",
    "import numpy as np\n",
    "import pandas as pd\n",
    "import pymongo\n",
    "from matplotlib import pyplot as plt\n",
    "import cPickle"
   ]
  },
  {
   "cell_type": "code",
   "execution_count": 2,
   "metadata": {
    "collapsed": false
   },
   "outputs": [],
   "source": [
    "# import MongoDB mashable article collection to pandas dataframe\n",
    "connection = pymongo.MongoClient()\n",
    "db = connection.mashable\n",
    "input_data = db.articles\n",
    "data = pd.DataFrame(list(input_data.find()))"
   ]
  },
  {
   "cell_type": "code",
   "execution_count": 3,
   "metadata": {
    "collapsed": false
   },
   "outputs": [
    {
     "data": {
      "text/plain": [
       "Index([u'LDA_0_prob', u'LDA_1_prob', u'LDA_2_prob', u'LDA_3_prob',\n",
       "       u'LDA_4_prob', u'LDA_5_prob', u'LDA_6_prob', u'LDA_7_prob',\n",
       "       u'LDA_8_prob', u'LDA_9_prob', u'_id', u'average_token_length_content',\n",
       "       u'average_token_length_title', u'avg_negative_polarity',\n",
       "       u'avg_positive_polarity', u'content', u'data_channel_is_bus',\n",
       "       u'data_channel_is_entertainment', u'data_channel_is_lifestyle',\n",
       "       u'data_channel_is_socmed', u'data_channel_is_tech',\n",
       "       u'data_channel_is_world', u'global_grade_level',\n",
       "       u'global_rate_negative_words', u'global_rate_positive_words',\n",
       "       u'global_reading_ease', u'global_sentiment_abs_polarity',\n",
       "       u'global_sentiment_polarity', u'global_subjectivity', u'is_weekend',\n",
       "       u'max_abs_polarity', u'max_negative_polarity', u'max_positive_polarity',\n",
       "       u'min_negative_polarity', u'min_positive_polarity', u'n_tokens_content',\n",
       "       u'n_tokens_title', u'num_imgs', u'num_tags', u'num_videos',\n",
       "       u'r_non_stop_unique_tokens', u'r_non_stop_words', u'r_unique_tokens',\n",
       "       u'rate_negative_words', u'rate_positive_words', u'shares', u'title',\n",
       "       u'title_sentiment_abs_polarity', u'title_sentiment_polarity',\n",
       "       u'title_subjectivity', u'url', u'weekday_is_friday',\n",
       "       u'weekday_is_monday', u'weekday_is_saturday', u'weekday_is_sunday',\n",
       "       u'weekday_is_thursday', u'weekday_is_tuesday', u'weekday_is_wednesday'],\n",
       "      dtype='object')"
      ]
     },
     "execution_count": 3,
     "metadata": {},
     "output_type": "execute_result"
    }
   ],
   "source": [
    "data.columns"
   ]
  },
  {
   "cell_type": "code",
   "execution_count": 4,
   "metadata": {
    "collapsed": false
   },
   "outputs": [],
   "source": [
    "# drop extraneous data\n",
    "data.drop(['url', 'content', 'title', '_id'], \n",
    "          axis=1, \n",
    "          inplace = True)"
   ]
  },
  {
   "cell_type": "code",
   "execution_count": 5,
   "metadata": {
    "collapsed": false
   },
   "outputs": [
    {
     "data": {
      "text/plain": [
       "count     39494.000000\n",
       "mean       3391.845951\n",
       "std       11619.594985\n",
       "min           1.000000\n",
       "25%         946.000000\n",
       "50%        1400.000000\n",
       "75%        2800.000000\n",
       "max      843300.000000\n",
       "Name: shares, dtype: float64"
      ]
     },
     "execution_count": 5,
     "metadata": {},
     "output_type": "execute_result"
    }
   ],
   "source": [
    "data.shares.describe()"
   ]
  },
  {
   "cell_type": "code",
   "execution_count": 6,
   "metadata": {
    "collapsed": true
   },
   "outputs": [],
   "source": [
    "def drange(start, stop, step):\n",
    "    \n",
    "    \"\"\"\n",
    "    produce a list of numbers in a range by sny type of step\n",
    "    \n",
    "    arguements:\n",
    "    start -- begining of range, int or float\n",
    "    stop -- end of range, int or float\n",
    "    step -- interval between each point in range, int or float\n",
    "    \n",
    "    returns:\n",
    "    generator object to create list\n",
    "    \"\"\"\n",
    "    \n",
    "    r = start\n",
    "    while r < stop:\n",
    "        yield r\n",
    "        r += step"
   ]
  },
  {
   "cell_type": "code",
   "execution_count": 7,
   "metadata": {
    "collapsed": false
   },
   "outputs": [],
   "source": [
    "percentiles = [x for x in drange(0, 1, 0.05)] + [x for x in drange(.96, 1, 0.005)] + [x for x in drange(.9955, 1, 0.0005)]"
   ]
  },
  {
   "cell_type": "code",
   "execution_count": 8,
   "metadata": {
    "collapsed": false
   },
   "outputs": [
    {
     "name": "stdout",
     "output_type": "stream",
     "text": [
      "0th Percentile: 1.0\n",
      "5.0th Percentile: 584.0\n",
      "10.0th Percentile: 708.0\n",
      "15.0th Percentile: 792.0\n",
      "20.0th Percentile: 870.0\n",
      "25.0th Percentile: 946.0\n",
      "30.0th Percentile: 1000.0\n",
      "35.0th Percentile: 1100.0\n",
      "40.0th Percentile: 1200.0\n",
      "45.0th Percentile: 1300.0\n",
      "50.0th Percentile: 1400.0\n",
      "55.0th Percentile: 1600.0\n",
      "60.0th Percentile: 1800.0\n",
      "65.0th Percentile: 2000.0\n",
      "70.0th Percentile: 2300.0\n",
      "75.0th Percentile: 2800.0\n",
      "80.0th Percentile: 3400.0\n",
      "85.0th Percentile: 4400.0\n",
      "90.0th Percentile: 6200.0\n",
      "95.0th Percentile: 10800.0\n",
      "96.0th Percentile: 12700.0\n",
      "96.5th Percentile: 14000.0\n",
      "97.0th Percentile: 15721.0\n",
      "97.5th Percentile: 17600.0\n",
      "98.0th Percentile: 20414.0\n",
      "98.5th Percentile: 24460.5\n",
      "99.0th Percentile: 31600.0\n",
      "99.5th Percentile: 50200.0\n",
      "99.55th Percentile: 53128.15\n",
      "99.6th Percentile: 56402.8\n",
      "99.65th Percentile: 59942.15\n",
      "99.7th Percentile: 67004.2\n",
      "99.75th Percentile: 72314.0\n",
      "99.8th Percentile: 83321.0\n",
      "99.85th Percentile: 97808.4\n",
      "99.9th Percentile: 113157.7\n",
      "99.95th Percentile: 183844.8\n",
      "100.0th Percentile: 843299.999998\n"
     ]
    }
   ],
   "source": [
    "for q in percentiles:\n",
    "    print str(q*100) + 'th Percentile: ' + str(data.shares.quantile(q))"
   ]
  },
  {
   "cell_type": "code",
   "execution_count": 9,
   "metadata": {
    "collapsed": false
   },
   "outputs": [
    {
     "data": {
      "text/plain": [
       "<matplotlib.axes._subplots.AxesSubplot at 0x10775ced0>"
      ]
     },
     "execution_count": 9,
     "metadata": {},
     "output_type": "execute_result"
    },
    {
     "data": {
      "image/png": "[encoded data removed]",
      "text/plain": [
       "<matplotlib.figure.Figure at 0x10775c7d0>"
      ]
     },
     "metadata": {},
     "output_type": "display_data"
    }
   ],
   "source": [
    "data.boxplot(column='shares', return_type='axes')"
   ]
  },
  {
   "cell_type": "code",
   "execution_count": 10,
   "metadata": {
    "collapsed": false
   },
   "outputs": [
    {
     "data": {
      "text/plain": [
       "array([[<matplotlib.axes._subplots.AxesSubplot object at 0x1276d5490>]], dtype=object)"
      ]
     },
     "execution_count": 10,
     "metadata": {},
     "output_type": "execute_result"
    },
    {
     "data": {
      "image/png": "[encoded data removed]",
      "text/plain": [
       "<matplotlib.figure.Figure at 0x1276e6410>"
      ]
     },
     "metadata": {},
     "output_type": "display_data"
    }
   ],
   "source": [
    "data.hist(column='shares', bins = 40)"
   ]
  },
  {
   "cell_type": "code",
   "execution_count": 11,
   "metadata": {
    "collapsed": true
   },
   "outputs": [],
   "source": [
    "data = data[data.shares <= 10800.0]"
   ]
  },
  {
   "cell_type": "code",
   "execution_count": 12,
   "metadata": {
    "collapsed": false
   },
   "outputs": [
    {
     "data": {
      "text/plain": [
       "<matplotlib.axes._subplots.AxesSubplot at 0x1276d5450>"
      ]
     },
     "execution_count": 12,
     "metadata": {},
     "output_type": "execute_result"
    },
    {
     "data": {
      "image/png": "[encoded data removed]",
      "text/plain": [
       "<matplotlib.figure.Figure at 0x12d738810>"
      ]
     },
     "metadata": {},
     "output_type": "display_data"
    }
   ],
   "source": [
    "data.boxplot(column='shares', return_type='axes')"
   ]
  },
  {
   "cell_type": "code",
   "execution_count": 13,
   "metadata": {
    "collapsed": false
   },
   "outputs": [
    {
     "data": {
      "text/plain": [
       "array([[<matplotlib.axes._subplots.AxesSubplot object at 0x121164910>]], dtype=object)"
      ]
     },
     "execution_count": 13,
     "metadata": {},
     "output_type": "execute_result"
    },
    {
     "data": {
      "image/png": "[encoded data removed]",
      "text/plain": [
       "<matplotlib.figure.Figure at 0x1211778d0>"
      ]
     },
     "metadata": {},
     "output_type": "display_data"
    }
   ],
   "source": [
    "data.hist(column='shares', bins = 100)"
   ]
  },
  {
   "cell_type": "code",
   "execution_count": 14,
   "metadata": {
    "collapsed": false
   },
   "outputs": [
    {
     "name": "stdout",
     "output_type": "stream",
     "text": [
      "0th Percentile: 1.0\n",
      "5.0th Percentile: 577.0\n",
      "10.0th Percentile: 699.0\n",
      "15.0th Percentile: 781.0\n",
      "20.0th Percentile: 855.0\n",
      "25.0th Percentile: 927.0\n",
      "30.0th Percentile: 1000.0\n",
      "35.0th Percentile: 1100.0\n",
      "40.0th Percentile: 1200.0\n",
      "45.0th Percentile: 1300.0\n",
      "50.0th Percentile: 1400.0\n",
      "55.0th Percentile: 1500.0\n",
      "60.0th Percentile: 1700.0\n",
      "65.0th Percentile: 1900.0\n",
      "70.0th Percentile: 2100.0\n",
      "75.0th Percentile: 2400.0\n",
      "80.0th Percentile: 2900.0\n",
      "85.0th Percentile: 3500.0\n",
      "90.0th Percentile: 4500.0\n",
      "95.0th Percentile: 6400.0\n",
      "96.0th Percentile: 6900.0\n",
      "96.5th Percentile: 7300.0\n",
      "97.0th Percentile: 7600.0\n",
      "97.5th Percentile: 8000.0\n",
      "98.0th Percentile: 8400.0\n",
      "98.5th Percentile: 9000.0\n",
      "99.0th Percentile: 9500.0\n",
      "99.5th Percentile: 10100.0\n",
      "99.55th Percentile: 10200.0\n",
      "99.6th Percentile: 10300.0\n",
      "99.65th Percentile: 10300.0\n",
      "99.7th Percentile: 10400.0\n",
      "99.75th Percentile: 10500.0\n",
      "99.8th Percentile: 10500.0\n",
      "99.85th Percentile: 10600.0\n",
      "99.9th Percentile: 10700.0\n",
      "99.95th Percentile: 10723.95\n",
      "100.0th Percentile: 10800.0\n"
     ]
    }
   ],
   "source": [
    "for q in percentiles:\n",
    "    print str(q*100) + 'th Percentile: ' + str(data.shares.quantile(q))"
   ]
  },
  {
   "cell_type": "code",
   "execution_count": 15,
   "metadata": {
    "collapsed": false
   },
   "outputs": [
    {
     "data": {
      "text/plain": [
       "0.9488430901504615"
      ]
     },
     "execution_count": 15,
     "metadata": {},
     "output_type": "execute_result"
    }
   ],
   "source": [
    "len(data)/39545"
   ]
  },
  {
   "cell_type": "code",
   "execution_count": 16,
   "metadata": {
    "collapsed": false
   },
   "outputs": [
    {
     "data": {
      "text/plain": [
       "<matplotlib.image.AxesImage at 0x103bf7210>"
      ]
     },
     "execution_count": 16,
     "metadata": {},
     "output_type": "execute_result"
    },
    {
     "data": {
      "image/png": "[encoded data removed]",
      "text/plain": [
       "<matplotlib.figure.Figure at 0x121177a90>"
      ]
     },
     "metadata": {},
     "output_type": "display_data"
    }
   ],
   "source": [
    "plt.matshow(data.corr())"
   ]
  },
  {
   "cell_type": "code",
   "execution_count": 17,
   "metadata": {
    "collapsed": false
   },
   "outputs": [
    {
     "data": {
      "text/plain": [
       "53"
      ]
     },
     "execution_count": 17,
     "metadata": {},
     "output_type": "execute_result"
    }
   ],
   "source": [
    "len(data.drop('shares', axis=1).columns)"
   ]
  },
  {
   "cell_type": "markdown",
   "metadata": {},
   "source": [
    "### Predict Count"
   ]
  },
  {
   "cell_type": "markdown",
   "metadata": {},
   "source": [
    "#### GLM -- Poisson"
   ]
  },
  {
   "cell_type": "code",
   "execution_count": 18,
   "metadata": {
    "collapsed": true
   },
   "outputs": [],
   "source": [
    "import statsmodels.api as sm\n",
    "from sklearn.cross_validation import KFold, train_test_split"
   ]
  },
  {
   "cell_type": "code",
   "execution_count": 19,
   "metadata": {
    "collapsed": true
   },
   "outputs": [],
   "source": [
    "X = sm.add_constant(data.drop('shares', axis=1))\n",
    "y = data.shares"
   ]
  },
  {
   "cell_type": "code",
   "execution_count": 20,
   "metadata": {
    "collapsed": false
   },
   "outputs": [],
   "source": [
    "y_train, y_test, X_train, X_test = train_test_split(y, X, random_state = 515)"
   ]
  },
  {
   "cell_type": "code",
   "execution_count": 21,
   "metadata": {
    "collapsed": false
   },
   "outputs": [],
   "source": [
    "pois_model = sm.GLM(y_train, \n",
    "                    X_train, \n",
    "                    family=sm.families.Poisson(link=sm.genmod.families.links.log))\n",
    "pois_results = pois_model.fit()"
   ]
  },
  {
   "cell_type": "code",
   "execution_count": 22,
   "metadata": {
    "collapsed": false
   },
   "outputs": [
    {
     "data": {
      "text/html": [
       "<table class=\"simpletable\">\n",
       "<caption>Generalized Linear Model Regression Results</caption>\n",
       "<tr>\n",
       "  <th>Dep. Variable:</th>       <td>shares</td>      <th>  No. Observations:  </th>   <td> 28141</td>   \n",
       "</tr>\n",
       "<tr>\n",
       "  <th>Model:</th>                 <td>GLM</td>       <th>  Df Residuals:      </th>   <td> 28090</td>   \n",
       "</tr>\n",
       "<tr>\n",
       "  <th>Model Family:</th>        <td>Poisson</td>     <th>  Df Model:          </th>   <td>    50</td>   \n",
       "</tr>\n",
       "<tr>\n",
       "  <th>Link Function:</th>         <td>log</td>       <th>  Scale:             </th>     <td>1.0</td>    \n",
       "</tr>\n",
       "<tr>\n",
       "  <th>Method:</th>               <td>IRLS</td>       <th>  Log-Likelihood:    </th> <td>-1.7041e+07</td>\n",
       "</tr>\n",
       "<tr>\n",
       "  <th>Date:</th>           <td>Mon, 07 Dec 2015</td> <th>  Deviance:          </th> <td>3.3823e+07</td> \n",
       "</tr>\n",
       "<tr>\n",
       "  <th>Time:</th>               <td>11:12:26</td>     <th>  Pearson chi2:      </th>  <td>4.52e+07</td>  \n",
       "</tr>\n",
       "<tr>\n",
       "  <th>No. Iterations:</th>        <td>100</td>       <th>                     </th>      <td> </td>     \n",
       "</tr>\n",
       "</table>\n",
       "<table class=\"simpletable\">\n",
       "<tr>\n",
       "                <td></td>                   <th>coef</th>     <th>std err</th>      <th>z</th>      <th>P>|z|</th> <th>[95.0% Conf. Int.]</th> \n",
       "</tr>\n",
       "<tr>\n",
       "  <th>const</th>                         <td>    5.5008</td> <td>    0.037</td> <td>  149.163</td> <td> 0.000</td> <td>    5.429     5.573</td>\n",
       "</tr>\n",
       "<tr>\n",
       "  <th>LDA_0_prob</th>                    <td>    0.7962</td> <td>    0.041</td> <td>   19.535</td> <td> 0.000</td> <td>    0.716     0.876</td>\n",
       "</tr>\n",
       "<tr>\n",
       "  <th>LDA_1_prob</th>                    <td>    0.8634</td> <td>    0.041</td> <td>   21.157</td> <td> 0.000</td> <td>    0.783     0.943</td>\n",
       "</tr>\n",
       "<tr>\n",
       "  <th>LDA_2_prob</th>                    <td>    0.9130</td> <td>    0.041</td> <td>   22.396</td> <td> 0.000</td> <td>    0.833     0.993</td>\n",
       "</tr>\n",
       "<tr>\n",
       "  <th>LDA_3_prob</th>                    <td>    0.7270</td> <td>    0.041</td> <td>   17.796</td> <td> 0.000</td> <td>    0.647     0.807</td>\n",
       "</tr>\n",
       "<tr>\n",
       "  <th>LDA_4_prob</th>                    <td>    0.9181</td> <td>    0.041</td> <td>   22.515</td> <td> 0.000</td> <td>    0.838     0.998</td>\n",
       "</tr>\n",
       "<tr>\n",
       "  <th>LDA_5_prob</th>                    <td>    0.8105</td> <td>    0.041</td> <td>   19.866</td> <td> 0.000</td> <td>    0.730     0.890</td>\n",
       "</tr>\n",
       "<tr>\n",
       "  <th>LDA_6_prob</th>                    <td>    0.8432</td> <td>    0.041</td> <td>   20.665</td> <td> 0.000</td> <td>    0.763     0.923</td>\n",
       "</tr>\n",
       "<tr>\n",
       "  <th>LDA_7_prob</th>                    <td>    0.8840</td> <td>    0.041</td> <td>   21.664</td> <td> 0.000</td> <td>    0.804     0.964</td>\n",
       "</tr>\n",
       "<tr>\n",
       "  <th>LDA_8_prob</th>                    <td>    0.9134</td> <td>    0.041</td> <td>   22.396</td> <td> 0.000</td> <td>    0.833     0.993</td>\n",
       "</tr>\n",
       "<tr>\n",
       "  <th>LDA_9_prob</th>                    <td>    0.9494</td> <td>    0.041</td> <td>   23.256</td> <td> 0.000</td> <td>    0.869     1.029</td>\n",
       "</tr>\n",
       "<tr>\n",
       "  <th>average_token_length_content</th>  <td>    0.0252</td> <td>    0.001</td> <td>   28.740</td> <td> 0.000</td> <td>    0.024     0.027</td>\n",
       "</tr>\n",
       "<tr>\n",
       "  <th>average_token_length_title</th>    <td>   -0.0009</td> <td>    0.000</td> <td>   -5.075</td> <td> 0.000</td> <td>   -0.001    -0.001</td>\n",
       "</tr>\n",
       "<tr>\n",
       "  <th>avg_negative_polarity</th>         <td>    0.0072</td> <td>    0.003</td> <td>    2.473</td> <td> 0.013</td> <td>    0.001     0.013</td>\n",
       "</tr>\n",
       "<tr>\n",
       "  <th>avg_positive_polarity</th>         <td>    0.1086</td> <td>    0.003</td> <td>   34.789</td> <td> 0.000</td> <td>    0.103     0.115</td>\n",
       "</tr>\n",
       "<tr>\n",
       "  <th>data_channel_is_bus</th>           <td>   -0.2027</td> <td>    0.000</td> <td> -426.330</td> <td> 0.000</td> <td>   -0.204    -0.202</td>\n",
       "</tr>\n",
       "<tr>\n",
       "  <th>data_channel_is_entertainment</th> <td>   -0.3771</td> <td>    0.000</td> <td> -817.333</td> <td> 0.000</td> <td>   -0.378    -0.376</td>\n",
       "</tr>\n",
       "<tr>\n",
       "  <th>data_channel_is_lifestyle</th>     <td>   -0.1209</td> <td>    0.001</td> <td> -188.802</td> <td> 0.000</td> <td>   -0.122    -0.120</td>\n",
       "</tr>\n",
       "<tr>\n",
       "  <th>data_channel_is_socmed</th>        <td>    0.0565</td> <td>    0.001</td> <td>   96.819</td> <td> 0.000</td> <td>    0.055     0.058</td>\n",
       "</tr>\n",
       "<tr>\n",
       "  <th>data_channel_is_tech</th>          <td>   -0.0647</td> <td>    0.000</td> <td> -147.236</td> <td> 0.000</td> <td>   -0.066    -0.064</td>\n",
       "</tr>\n",
       "<tr>\n",
       "  <th>data_channel_is_world</th>         <td>   -0.4000</td> <td>    0.000</td> <td> -872.539</td> <td> 0.000</td> <td>   -0.401    -0.399</td>\n",
       "</tr>\n",
       "<tr>\n",
       "  <th>global_grade_level</th>            <td>   -0.0019</td> <td>    0.000</td> <td>  -10.477</td> <td> 0.000</td> <td>   -0.002    -0.002</td>\n",
       "</tr>\n",
       "<tr>\n",
       "  <th>global_rate_negative_words</th>    <td>   -0.3187</td> <td>    0.031</td> <td>  -10.419</td> <td> 0.000</td> <td>   -0.379    -0.259</td>\n",
       "</tr>\n",
       "<tr>\n",
       "  <th>global_rate_positive_words</th>    <td>    0.5360</td> <td>    0.016</td> <td>   34.560</td> <td> 0.000</td> <td>    0.506     0.566</td>\n",
       "</tr>\n",
       "<tr>\n",
       "  <th>global_reading_ease</th>           <td>   -0.0003</td> <td> 4.83e-05</td> <td>   -5.853</td> <td> 0.000</td> <td>   -0.000    -0.000</td>\n",
       "</tr>\n",
       "<tr>\n",
       "  <th>global_sentiment_abs_polarity</th> <td>   -0.0038</td> <td>    0.004</td> <td>   -1.034</td> <td> 0.301</td> <td>   -0.011     0.003</td>\n",
       "</tr>\n",
       "<tr>\n",
       "  <th>global_sentiment_polarity</th>     <td>   -0.2091</td> <td>    0.005</td> <td>  -44.362</td> <td> 0.000</td> <td>   -0.218    -0.200</td>\n",
       "</tr>\n",
       "<tr>\n",
       "  <th>global_subjectivity</th>           <td>    0.0495</td> <td>    0.002</td> <td>   25.743</td> <td> 0.000</td> <td>    0.046     0.053</td>\n",
       "</tr>\n",
       "<tr>\n",
       "  <th>is_weekend</th>                    <td>    0.7777</td> <td>    0.004</td> <td>  179.135</td> <td> 0.000</td> <td>    0.769     0.786</td>\n",
       "</tr>\n",
       "<tr>\n",
       "  <th>max_abs_polarity</th>              <td>   -0.0106</td> <td>    0.000</td> <td>  -22.045</td> <td> 0.000</td> <td>   -0.012    -0.010</td>\n",
       "</tr>\n",
       "<tr>\n",
       "  <th>max_negative_polarity</th>         <td>   -0.0164</td> <td>    0.002</td> <td>   -7.142</td> <td> 0.000</td> <td>   -0.021    -0.012</td>\n",
       "</tr>\n",
       "<tr>\n",
       "  <th>max_positive_polarity</th>         <td>   -0.0104</td> <td>    0.001</td> <td>  -13.774</td> <td> 0.000</td> <td>   -0.012    -0.009</td>\n",
       "</tr>\n",
       "<tr>\n",
       "  <th>min_negative_polarity</th>         <td>    0.0001</td> <td>    0.001</td> <td>    0.156</td> <td> 0.876</td> <td>   -0.001     0.002</td>\n",
       "</tr>\n",
       "<tr>\n",
       "  <th>min_positive_polarity</th>         <td>   -0.0236</td> <td>    0.002</td> <td>   -9.731</td> <td> 0.000</td> <td>   -0.028    -0.019</td>\n",
       "</tr>\n",
       "<tr>\n",
       "  <th>n_tokens_content</th>              <td> 4.213e-05</td> <td> 5.01e-07</td> <td>   84.012</td> <td> 0.000</td> <td> 4.11e-05  4.31e-05</td>\n",
       "</tr>\n",
       "<tr>\n",
       "  <th>n_tokens_title</th>                <td>    0.0038</td> <td> 7.34e-05</td> <td>   52.200</td> <td> 0.000</td> <td>    0.004     0.004</td>\n",
       "</tr>\n",
       "<tr>\n",
       "  <th>num_imgs</th>                      <td>    0.0047</td> <td> 1.52e-05</td> <td>  311.944</td> <td> 0.000</td> <td>    0.005     0.005</td>\n",
       "</tr>\n",
       "<tr>\n",
       "  <th>num_tags</th>                      <td>   -0.0008</td> <td> 5.98e-05</td> <td>  -13.818</td> <td> 0.000</td> <td>   -0.001    -0.001</td>\n",
       "</tr>\n",
       "<tr>\n",
       "  <th>num_videos</th>                    <td>    0.0051</td> <td> 3.18e-05</td> <td>  159.156</td> <td> 0.000</td> <td>    0.005     0.005</td>\n",
       "</tr>\n",
       "<tr>\n",
       "  <th>r_non_stop_unique_tokens</th>      <td>    0.0917</td> <td>    0.008</td> <td>   12.022</td> <td> 0.000</td> <td>    0.077     0.107</td>\n",
       "</tr>\n",
       "<tr>\n",
       "  <th>r_non_stop_words</th>              <td>   -0.1501</td> <td>    0.005</td> <td>  -32.144</td> <td> 0.000</td> <td>   -0.159    -0.141</td>\n",
       "</tr>\n",
       "<tr>\n",
       "  <th>r_unique_tokens</th>               <td>   -0.0250</td> <td>    0.006</td> <td>   -4.220</td> <td> 0.000</td> <td>   -0.037    -0.013</td>\n",
       "</tr>\n",
       "<tr>\n",
       "  <th>rate_negative_words</th>           <td>    0.3383</td> <td>    0.013</td> <td>   25.237</td> <td> 0.000</td> <td>    0.312     0.365</td>\n",
       "</tr>\n",
       "<tr>\n",
       "  <th>rate_positive_words</th>           <td>    0.3692</td> <td>    0.013</td> <td>   27.773</td> <td> 0.000</td> <td>    0.343     0.395</td>\n",
       "</tr>\n",
       "<tr>\n",
       "  <th>title_sentiment_abs_polarity</th>  <td>    0.0382</td> <td>    0.001</td> <td>   43.091</td> <td> 0.000</td> <td>    0.036     0.040</td>\n",
       "</tr>\n",
       "<tr>\n",
       "  <th>title_sentiment_polarity</th>      <td>   -0.0093</td> <td>    0.001</td> <td>  -16.920</td> <td> 0.000</td> <td>   -0.010    -0.008</td>\n",
       "</tr>\n",
       "<tr>\n",
       "  <th>title_subjectivity</th>            <td>   -0.0131</td> <td>    0.001</td> <td>  -22.246</td> <td> 0.000</td> <td>   -0.014    -0.012</td>\n",
       "</tr>\n",
       "<tr>\n",
       "  <th>weekday_is_friday</th>             <td>    0.9649</td> <td>    0.007</td> <td>  148.117</td> <td> 0.000</td> <td>    0.952     0.978</td>\n",
       "</tr>\n",
       "<tr>\n",
       "  <th>weekday_is_monday</th>             <td>    0.9615</td> <td>    0.007</td> <td>  147.572</td> <td> 0.000</td> <td>    0.949     0.974</td>\n",
       "</tr>\n",
       "<tr>\n",
       "  <th>weekday_is_saturday</th>           <td>    0.3906</td> <td>    0.002</td> <td>  177.331</td> <td> 0.000</td> <td>    0.386     0.395</td>\n",
       "</tr>\n",
       "<tr>\n",
       "  <th>weekday_is_sunday</th>             <td>    0.3871</td> <td>    0.002</td> <td>  176.888</td> <td> 0.000</td> <td>    0.383     0.391</td>\n",
       "</tr>\n",
       "<tr>\n",
       "  <th>weekday_is_thursday</th>           <td>    0.9314</td> <td>    0.007</td> <td>  143.027</td> <td> 0.000</td> <td>    0.919     0.944</td>\n",
       "</tr>\n",
       "<tr>\n",
       "  <th>weekday_is_tuesday</th>            <td>    0.9349</td> <td>    0.007</td> <td>  143.492</td> <td> 0.000</td> <td>    0.922     0.948</td>\n",
       "</tr>\n",
       "<tr>\n",
       "  <th>weekday_is_wednesday</th>          <td>    0.9303</td> <td>    0.007</td> <td>  142.773</td> <td> 0.000</td> <td>    0.918     0.943</td>\n",
       "</tr>\n",
       "</table>"
      ],
      "text/plain": [
       "<class 'statsmodels.iolib.summary.Summary'>\n",
       "\"\"\"\n",
       "                 Generalized Linear Model Regression Results                  \n",
       "==============================================================================\n",
       "Dep. Variable:                 shares   No. Observations:                28141\n",
       "Model:                            GLM   Df Residuals:                    28090\n",
       "Model Family:                 Poisson   Df Model:                           50\n",
       "Link Function:                    log   Scale:                             1.0\n",
       "Method:                          IRLS   Log-Likelihood:            -1.7041e+07\n",
       "Date:                Mon, 07 Dec 2015   Deviance:                   3.3823e+07\n",
       "Time:                        11:12:26   Pearson chi2:                 4.52e+07\n",
       "No. Iterations:                   100                                         \n",
       "=================================================================================================\n",
       "                                    coef    std err          z      P>|z|      [95.0% Conf. Int.]\n",
       "-------------------------------------------------------------------------------------------------\n",
       "const                             5.5008      0.037    149.163      0.000         5.429     5.573\n",
       "LDA_0_prob                        0.7962      0.041     19.535      0.000         0.716     0.876\n",
       "LDA_1_prob                        0.8634      0.041     21.157      0.000         0.783     0.943\n",
       "LDA_2_prob                        0.9130      0.041     22.396      0.000         0.833     0.993\n",
       "LDA_3_prob                        0.7270      0.041     17.796      0.000         0.647     0.807\n",
       "LDA_4_prob                        0.9181      0.041     22.515      0.000         0.838     0.998\n",
       "LDA_5_prob                        0.8105      0.041     19.866      0.000         0.730     0.890\n",
       "LDA_6_prob                        0.8432      0.041     20.665      0.000         0.763     0.923\n",
       "LDA_7_prob                        0.8840      0.041     21.664      0.000         0.804     0.964\n",
       "LDA_8_prob                        0.9134      0.041     22.396      0.000         0.833     0.993\n",
       "LDA_9_prob                        0.9494      0.041     23.256      0.000         0.869     1.029\n",
       "average_token_length_content      0.0252      0.001     28.740      0.000         0.024     0.027\n",
       "average_token_length_title       -0.0009      0.000     -5.075      0.000        -0.001    -0.001\n",
       "avg_negative_polarity             0.0072      0.003      2.473      0.013         0.001     0.013\n",
       "avg_positive_polarity             0.1086      0.003     34.789      0.000         0.103     0.115\n",
       "data_channel_is_bus              -0.2027      0.000   -426.330      0.000        -0.204    -0.202\n",
       "data_channel_is_entertainment    -0.3771      0.000   -817.333      0.000        -0.378    -0.376\n",
       "data_channel_is_lifestyle        -0.1209      0.001   -188.802      0.000        -0.122    -0.120\n",
       "data_channel_is_socmed            0.0565      0.001     96.819      0.000         0.055     0.058\n",
       "data_channel_is_tech             -0.0647      0.000   -147.236      0.000        -0.066    -0.064\n",
       "data_channel_is_world            -0.4000      0.000   -872.539      0.000        -0.401    -0.399\n",
       "global_grade_level               -0.0019      0.000    -10.477      0.000        -0.002    -0.002\n",
       "global_rate_negative_words       -0.3187      0.031    -10.419      0.000        -0.379    -0.259\n",
       "global_rate_positive_words        0.5360      0.016     34.560      0.000         0.506     0.566\n",
       "global_reading_ease              -0.0003   4.83e-05     -5.853      0.000        -0.000    -0.000\n",
       "global_sentiment_abs_polarity    -0.0038      0.004     -1.034      0.301        -0.011     0.003\n",
       "global_sentiment_polarity        -0.2091      0.005    -44.362      0.000        -0.218    -0.200\n",
       "global_subjectivity               0.0495      0.002     25.743      0.000         0.046     0.053\n",
       "is_weekend                        0.7777      0.004    179.135      0.000         0.769     0.786\n",
       "max_abs_polarity                 -0.0106      0.000    -22.045      0.000        -0.012    -0.010\n",
       "max_negative_polarity            -0.0164      0.002     -7.142      0.000        -0.021    -0.012\n",
       "max_positive_polarity            -0.0104      0.001    -13.774      0.000        -0.012    -0.009\n",
       "min_negative_polarity             0.0001      0.001      0.156      0.876        -0.001     0.002\n",
       "min_positive_polarity            -0.0236      0.002     -9.731      0.000        -0.028    -0.019\n",
       "n_tokens_content               4.213e-05   5.01e-07     84.012      0.000      4.11e-05  4.31e-05\n",
       "n_tokens_title                    0.0038   7.34e-05     52.200      0.000         0.004     0.004\n",
       "num_imgs                          0.0047   1.52e-05    311.944      0.000         0.005     0.005\n",
       "num_tags                         -0.0008   5.98e-05    -13.818      0.000        -0.001    -0.001\n",
       "num_videos                        0.0051   3.18e-05    159.156      0.000         0.005     0.005\n",
       "r_non_stop_unique_tokens          0.0917      0.008     12.022      0.000         0.077     0.107\n",
       "r_non_stop_words                 -0.1501      0.005    -32.144      0.000        -0.159    -0.141\n",
       "r_unique_tokens                  -0.0250      0.006     -4.220      0.000        -0.037    -0.013\n",
       "rate_negative_words               0.3383      0.013     25.237      0.000         0.312     0.365\n",
       "rate_positive_words               0.3692      0.013     27.773      0.000         0.343     0.395\n",
       "title_sentiment_abs_polarity      0.0382      0.001     43.091      0.000         0.036     0.040\n",
       "title_sentiment_polarity         -0.0093      0.001    -16.920      0.000        -0.010    -0.008\n",
       "title_subjectivity               -0.0131      0.001    -22.246      0.000        -0.014    -0.012\n",
       "weekday_is_friday                 0.9649      0.007    148.117      0.000         0.952     0.978\n",
       "weekday_is_monday                 0.9615      0.007    147.572      0.000         0.949     0.974\n",
       "weekday_is_saturday               0.3906      0.002    177.331      0.000         0.386     0.395\n",
       "weekday_is_sunday                 0.3871      0.002    176.888      0.000         0.383     0.391\n",
       "weekday_is_thursday               0.9314      0.007    143.027      0.000         0.919     0.944\n",
       "weekday_is_tuesday                0.9349      0.007    143.492      0.000         0.922     0.948\n",
       "weekday_is_wednesday              0.9303      0.007    142.773      0.000         0.918     0.943\n",
       "=================================================================================================\n",
       "\"\"\""
      ]
     },
     "execution_count": 22,
     "metadata": {},
     "output_type": "execute_result"
    }
   ],
   "source": [
    "pois_results.summary()"
   ]
  },
  {
   "cell_type": "code",
   "execution_count": 63,
   "metadata": {
    "collapsed": true
   },
   "outputs": [],
   "source": [
    "with open('pois_regress.pkl', 'wb') as f:\n",
    "    cPickle.dump(pois_results, f)"
   ]
  },
  {
   "cell_type": "code",
   "execution_count": 23,
   "metadata": {
    "collapsed": true
   },
   "outputs": [],
   "source": [
    "from sklearn.metrics import mean_squared_error\n",
    "from scipy.stats import chisqprob"
   ]
  },
  {
   "cell_type": "code",
   "execution_count": 24,
   "metadata": {
    "collapsed": false
   },
   "outputs": [
    {
     "data": {
      "text/plain": [
       "36183621.296935052"
      ]
     },
     "execution_count": 24,
     "metadata": {},
     "output_type": "execute_result"
    }
   ],
   "source": [
    "# test for significance\n",
    "pois_results.null_deviance"
   ]
  },
  {
   "cell_type": "code",
   "execution_count": 25,
   "metadata": {
    "collapsed": false
   },
   "outputs": [
    {
     "data": {
      "text/plain": [
       "2360631.304935351"
      ]
     },
     "execution_count": 25,
     "metadata": {},
     "output_type": "execute_result"
    }
   ],
   "source": [
    "diff_in_dev = pois_results.null_deviance - pois_results.deviance\n",
    "diff_in_dev"
   ]
  },
  {
   "cell_type": "code",
   "execution_count": 26,
   "metadata": {
    "collapsed": false
   },
   "outputs": [
    {
     "data": {
      "text/plain": [
       "50"
      ]
     },
     "execution_count": 26,
     "metadata": {},
     "output_type": "execute_result"
    }
   ],
   "source": [
    "df = pois_results.df_model\n",
    "df"
   ]
  },
  {
   "cell_type": "code",
   "execution_count": 27,
   "metadata": {
    "collapsed": false
   },
   "outputs": [
    {
     "data": {
      "text/plain": [
       "0.0"
      ]
     },
     "execution_count": 27,
     "metadata": {},
     "output_type": "execute_result"
    }
   ],
   "source": [
    "chisqprob(diff_in_dev , df)"
   ]
  },
  {
   "cell_type": "code",
   "execution_count": 28,
   "metadata": {
    "collapsed": false
   },
   "outputs": [
    {
     "data": {
      "text/plain": [
       "3366771.0114277382"
      ]
     },
     "execution_count": 28,
     "metadata": {},
     "output_type": "execute_result"
    }
   ],
   "source": [
    "# train error\n",
    "mean_squared_error(pois_results.predict(X_train),y_train)"
   ]
  },
  {
   "cell_type": "code",
   "execution_count": 29,
   "metadata": {
    "collapsed": false
   },
   "outputs": [
    {
     "data": {
      "text/plain": [
       "3213068.6619217824"
      ]
     },
     "execution_count": 29,
     "metadata": {},
     "output_type": "execute_result"
    }
   ],
   "source": [
    "# test error\n",
    "mean_squared_error(pois_results.predict(X_test),y_test)"
   ]
  },
  {
   "cell_type": "markdown",
   "metadata": {},
   "source": [
    "#### Random Forest Regression"
   ]
  },
  {
   "cell_type": "code",
   "execution_count": 30,
   "metadata": {
    "collapsed": false
   },
   "outputs": [],
   "source": [
    "from sklearn.ensemble import RandomForestRegressor, RandomForestClassifier"
   ]
  },
  {
   "cell_type": "code",
   "execution_count": 31,
   "metadata": {
    "collapsed": false
   },
   "outputs": [
    {
     "name": "stderr",
     "output_type": "stream",
     "text": [
      "[Parallel(n_jobs=-1)]: Done  42 tasks      | elapsed:    2.4s\n",
      "[Parallel(n_jobs=-1)]: Done 100 out of 100 | elapsed:    5.7s finished\n"
     ]
    },
    {
     "data": {
      "text/plain": [
       "RandomForestRegressor(bootstrap=True, criterion='mse', max_depth=5,\n",
       "           max_features='sqrt', max_leaf_nodes=None, min_samples_leaf=1,\n",
       "           min_samples_split=2, min_weight_fraction_leaf=0.0,\n",
       "           n_estimators=100, n_jobs=-1, oob_score=True, random_state=515,\n",
       "           verbose=1, warm_start=False)"
      ]
     },
     "execution_count": 31,
     "metadata": {},
     "output_type": "execute_result"
    }
   ],
   "source": [
    "# train random forest regressor\n",
    "RF_regress = RandomForestRegressor(n_estimators=100, \n",
    "                                   max_depth=5, \n",
    "                                   max_features='sqrt', \n",
    "                                   bootstrap=True, \n",
    "                                   oob_score=True, \n",
    "                                   n_jobs=-1, \n",
    "                                   random_state=515, \n",
    "                                   verbose=1)\n",
    "RF_regress.fit(X_train, y_train)"
   ]
  },
  {
   "cell_type": "code",
   "execution_count": 32,
   "metadata": {
    "collapsed": false
   },
   "outputs": [
    {
     "name": "stderr",
     "output_type": "stream",
     "text": [
      "[Parallel(n_jobs=4)]: Done  42 tasks      | elapsed:    0.1s\n",
      "[Parallel(n_jobs=4)]: Done 100 out of 100 | elapsed:    0.2s finished\n"
     ]
    },
    {
     "data": {
      "text/plain": [
       "3366709.4549498381"
      ]
     },
     "execution_count": 32,
     "metadata": {},
     "output_type": "execute_result"
    }
   ],
   "source": [
    "mean_squared_error(RF_regress.predict(X_train),y_train)"
   ]
  },
  {
   "cell_type": "code",
   "execution_count": 33,
   "metadata": {
    "collapsed": false
   },
   "outputs": [
    {
     "name": "stderr",
     "output_type": "stream",
     "text": [
      "[Parallel(n_jobs=4)]: Done  42 tasks      | elapsed:    0.1s\n",
      "[Parallel(n_jobs=4)]: Done 100 out of 100 | elapsed:    0.1s finished\n"
     ]
    },
    {
     "data": {
      "text/plain": [
       "3267196.8216145039"
      ]
     },
     "execution_count": 33,
     "metadata": {},
     "output_type": "execute_result"
    }
   ],
   "source": [
    "mean_squared_error(RF_regress.predict(X_test),y_test)"
   ]
  },
  {
   "cell_type": "code",
   "execution_count": 34,
   "metadata": {
    "collapsed": false
   },
   "outputs": [
    {
     "data": {
      "text/plain": [
       "[(0.12445973959853271, u'data_channel_is_world'),\n",
       " (0.11714193624508143, u'num_imgs'),\n",
       " (0.091025822370877543, u'is_weekend'),\n",
       " (0.08881416578382291, u'data_channel_is_entertainment'),\n",
       " (0.0675571346508506, u'data_channel_is_socmed'),\n",
       " (0.039899487480916408, u'weekday_is_saturday'),\n",
       " (0.036416297992098147, u'weekday_is_sunday'),\n",
       " (0.032353171828102323, u'data_channel_is_tech'),\n",
       " (0.024718246126449045, u'num_videos'),\n",
       " (0.018812721070246185, u'r_non_stop_words'),\n",
       " (0.018579371564071637, u'n_tokens_content'),\n",
       " (0.018364605644231216, u'r_unique_tokens'),\n",
       " (0.018225507654223486, u'global_rate_positive_words'),\n",
       " (0.016924579693492526, u'r_non_stop_unique_tokens'),\n",
       " (0.013718927982548108, u'LDA_9_prob'),\n",
       " (0.013207764104572943, u'average_token_length_content'),\n",
       " (0.012695831658657066, u'LDA_1_prob'),\n",
       " (0.012058072285446628, u'global_rate_negative_words'),\n",
       " (0.01200317602709833, u'global_sentiment_abs_polarity'),\n",
       " (0.011747619352915493, u'LDA_5_prob'),\n",
       " (0.011466655514803588, u'average_token_length_title'),\n",
       " (0.011152715246659308, u'LDA_2_prob'),\n",
       " (0.010814741071727524, u'title_sentiment_polarity'),\n",
       " (0.010760345887956697, u'global_sentiment_polarity'),\n",
       " (0.010346770478299414, u'avg_negative_polarity'),\n",
       " (0.010321018464725964, u'LDA_8_prob'),\n",
       " (0.0096391648651177973, u'LDA_4_prob'),\n",
       " (0.0092833346383303355, u'global_reading_ease'),\n",
       " (0.0092571589659354806, u'global_subjectivity'),\n",
       " (0.0083157516066793384, u'avg_positive_polarity'),\n",
       " (0.0082936049530939627, u'max_abs_polarity'),\n",
       " (0.0078683382236332897, u'LDA_6_prob'),\n",
       " (0.0078610067658243122, u'rate_negative_words'),\n",
       " (0.0076217688183039924, u'global_grade_level'),\n",
       " (0.007083572147648428, u'rate_positive_words'),\n",
       " (0.0066677221838596376, u'n_tokens_title'),\n",
       " (0.0066407778572162221, u'LDA_7_prob'),\n",
       " (0.0064171941732263042, u'LDA_0_prob'),\n",
       " (0.0063238728957478937, u'min_positive_polarity'),\n",
       " (0.0062472392843588185, u'data_channel_is_bus'),\n",
       " (0.0057237121707994568, u'LDA_3_prob'),\n",
       " (0.0056788416109171212, u'num_tags'),\n",
       " (0.0053223895151045288, u'min_negative_polarity'),\n",
       " (0.0047117894002492019, u'max_negative_polarity'),\n",
       " (0.0045896641935362949, u'max_positive_polarity'),\n",
       " (0.0035466838924541623, u'title_sentiment_abs_polarity'),\n",
       " (0.0029883843368589905, u'title_subjectivity'),\n",
       " (0.0017700683401010791, u'data_channel_is_lifestyle'),\n",
       " (0.0012262583543790704, u'weekday_is_wednesday'),\n",
       " (0.0011540583562591885, u'weekday_is_tuesday'),\n",
       " (0.0010373441050582372, u'weekday_is_thursday'),\n",
       " (0.00068906301729663273, u'weekday_is_friday'),\n",
       " (0.00045480954960292765, u'weekday_is_monday'),\n",
       " (0.0, 'const')]"
      ]
     },
     "execution_count": 34,
     "metadata": {},
     "output_type": "execute_result"
    }
   ],
   "source": [
    "sorted(zip(RF_regress.feature_importances_,X_train.columns), reverse=True)"
   ]
  },
  {
   "cell_type": "code",
   "execution_count": 35,
   "metadata": {
    "collapsed": false
   },
   "outputs": [],
   "source": [
    "# Analyze Individual Features\n",
    "from sklearn.tree import DecisionTreeRegressor, DecisionTreeClassifier\n",
    "from sklearn.tree import export_graphviz\n",
    "from sklearn.externals.six import StringIO  \n",
    "import pydot"
   ]
  },
  {
   "cell_type": "code",
   "execution_count": 36,
   "metadata": {
    "collapsed": false
   },
   "outputs": [
    {
     "data": {
      "text/plain": [
       "DecisionTreeRegressor(criterion='mse', max_depth=2, max_features=None,\n",
       "           max_leaf_nodes=None, min_samples_leaf=1, min_samples_split=2,\n",
       "           min_weight_fraction_leaf=0.0, presort=False, random_state=None,\n",
       "           splitter='best')"
      ]
     },
     "execution_count": 36,
     "metadata": {},
     "output_type": "execute_result"
    }
   ],
   "source": [
    "DT_num_imgs = DecisionTreeRegressor(max_depth=2)\n",
    "DT_num_imgs.fit(X_train['num_imgs'].reshape(-1, 1), y_train)"
   ]
  },
  {
   "cell_type": "code",
   "execution_count": 37,
   "metadata": {
    "collapsed": false
   },
   "outputs": [],
   "source": [
    "dot_data = StringIO() \n",
    "export_graphviz(DT_num_imgs,out_file='num_img_tree.dot',feature_names='num_imgs')\n",
    "!dot -Tpng num_img_tree.dot -o num_img_tree.png"
   ]
  },
  {
   "cell_type": "markdown",
   "metadata": {},
   "source": [
    "<img src=\"num_img_tree.png\">"
   ]
  },
  {
   "cell_type": "code",
   "execution_count": 38,
   "metadata": {
    "collapsed": false
   },
   "outputs": [
    {
     "data": {
      "text/plain": [
       "DecisionTreeRegressor(criterion='mse', max_depth=2, max_features=None,\n",
       "           max_leaf_nodes=None, min_samples_leaf=1, min_samples_split=2,\n",
       "           min_weight_fraction_leaf=0.0, presort=False, random_state=None,\n",
       "           splitter='best')"
      ]
     },
     "execution_count": 38,
     "metadata": {},
     "output_type": "execute_result"
    }
   ],
   "source": [
    "DT_is_weekend = DecisionTreeRegressor(max_depth=2)\n",
    "DT_is_weekend.fit(X_train['is_weekend'].reshape(-1, 1), y_train)"
   ]
  },
  {
   "cell_type": "code",
   "execution_count": 39,
   "metadata": {
    "collapsed": true
   },
   "outputs": [],
   "source": [
    "dot_data = StringIO() \n",
    "export_graphviz(DT_is_weekend,out_file='is_weekend.dot',feature_names='is_weekend')\n",
    "!dot -Tpng is_weekend.dot -o is_weekend.png"
   ]
  },
  {
   "cell_type": "markdown",
   "metadata": {},
   "source": [
    "<img src=\"is_weekend.png\">"
   ]
  },
  {
   "cell_type": "code",
   "execution_count": 40,
   "metadata": {
    "collapsed": false
   },
   "outputs": [
    {
     "data": {
      "text/plain": [
       "DecisionTreeRegressor(criterion='mse', max_depth=2, max_features=None,\n",
       "           max_leaf_nodes=None, min_samples_leaf=1000, min_samples_split=2,\n",
       "           min_weight_fraction_leaf=0.0, presort=False, random_state=None,\n",
       "           splitter='best')"
      ]
     },
     "execution_count": 40,
     "metadata": {},
     "output_type": "execute_result"
    }
   ],
   "source": [
    "DT_n_tokens_content= DecisionTreeRegressor(max_depth=2, min_samples_leaf = 1000)\n",
    "DT_n_tokens_content.fit(X_train['n_tokens_content'].reshape(-1, 1), y_train)"
   ]
  },
  {
   "cell_type": "code",
   "execution_count": 41,
   "metadata": {
    "collapsed": true
   },
   "outputs": [],
   "source": [
    "dot_data = StringIO() \n",
    "export_graphviz(DT_n_tokens_content,out_file='n_tokens_content.dot',feature_names='n_tokens_content')\n",
    "!dot -Tpng n_tokens_content.dot -o n_tokens_content.png"
   ]
  },
  {
   "cell_type": "markdown",
   "metadata": {},
   "source": [
    "<img src=\"n_tokens_content.png\">"
   ]
  },
  {
   "cell_type": "code",
   "execution_count": 42,
   "metadata": {
    "collapsed": false
   },
   "outputs": [
    {
     "data": {
      "text/plain": [
       "DecisionTreeRegressor(criterion='mse', max_depth=2, max_features=None,\n",
       "           max_leaf_nodes=None, min_samples_leaf=1000, min_samples_split=2,\n",
       "           min_weight_fraction_leaf=0.0, presort=False, random_state=None,\n",
       "           splitter='best')"
      ]
     },
     "execution_count": 42,
     "metadata": {},
     "output_type": "execute_result"
    }
   ],
   "source": [
    "DT_global_rate_positive_words= DecisionTreeRegressor(max_depth=2, min_samples_leaf = 1000)\n",
    "DT_global_rate_positive_words.fit(X_train['global_rate_positive_words'].reshape(-1, 1), y_train)"
   ]
  },
  {
   "cell_type": "code",
   "execution_count": 43,
   "metadata": {
    "collapsed": true
   },
   "outputs": [],
   "source": [
    "dot_data = StringIO() \n",
    "export_graphviz(DT_global_rate_positive_words,out_file='global_rate_positive_words.dot',feature_names='global_rate_positive_words')\n",
    "!dot -Tpng global_rate_positive_words.dot -o global_rate_positive_words.png"
   ]
  },
  {
   "cell_type": "markdown",
   "metadata": {},
   "source": [
    "<img src=\"global_rate_positive_words.png\">"
   ]
  },
  {
   "cell_type": "markdown",
   "metadata": {},
   "source": [
    "#### Random Forest Classification (Top 10%, above 4500 shares)"
   ]
  },
  {
   "cell_type": "code",
   "execution_count": 44,
   "metadata": {
    "collapsed": true
   },
   "outputs": [],
   "source": [
    "# define class for classification problem\n",
    "y_train_class = [1 if shares > 4500 else 0 for shares in y_train]\n",
    "y_test_class = [1 if shares > 4500 else 0 for shares in y_test]"
   ]
  },
  {
   "cell_type": "code",
   "execution_count": 45,
   "metadata": {
    "collapsed": false
   },
   "outputs": [
    {
     "name": "stdout",
     "output_type": "stream",
     "text": [
      "Fitting 3 folds for each of 6 candidates, totalling 18 fits\n"
     ]
    },
    {
     "name": "stderr",
     "output_type": "stream",
     "text": [
      "[Parallel(n_jobs=-1)]: Done  18 out of  18 | elapsed:  1.2min finished\n",
      "[Parallel(n_jobs=-1)]: Done  42 tasks      | elapsed:    2.1s\n",
      "[Parallel(n_jobs=-1)]: Done 100 out of 100 | elapsed:    4.9s finished\n",
      "[Parallel(n_jobs=-1)]: Done  42 tasks      | elapsed:    4.3s\n",
      "[Parallel(n_jobs=-1)]: Done  42 tasks      | elapsed:    5.1s\n",
      "[Parallel(n_jobs=-1)]: Done  42 tasks      | elapsed:    5.7s\n",
      "[Parallel(n_jobs=-1)]: Done  42 tasks      | elapsed:    5.8s\n",
      "[Parallel(n_jobs=-1)]: Done 100 out of 100 | elapsed:   12.2s finished\n",
      "[Parallel(n_jobs=-1)]: Done 100 out of 100 | elapsed:   12.8s finished\n",
      "[Parallel(n_jobs=-1)]: Done 100 out of 100 | elapsed:   12.8s finished\n",
      "[Parallel(n_jobs=-1)]: Done 100 out of 100 | elapsed:   12.5s finished\n",
      "[Parallel(n_jobs=4)]: Done  42 tasks      | elapsed:    0.1s\n",
      "[Parallel(n_jobs=4)]: Done  42 tasks      | elapsed:    0.1s\n",
      "[Parallel(n_jobs=4)]: Done  42 tasks      | elapsed:    0.1s\n",
      "[Parallel(n_jobs=4)]: Done  42 tasks      | elapsed:    0.1s\n",
      "[Parallel(n_jobs=4)]: Done 100 out of 100 | elapsed:    0.3s finished\n",
      "[Parallel(n_jobs=4)]: Done 100 out of 100 | elapsed:    0.2s finished\n",
      "[Parallel(n_jobs=4)]: Done 100 out of 100 | elapsed:    0.2s finished\n",
      "[Parallel(n_jobs=4)]: Done 100 out of 100 | elapsed:    0.2s finished\n",
      "[Parallel(n_jobs=-1)]: Done  42 tasks      | elapsed:    4.0s\n",
      "[Parallel(n_jobs=-1)]: Done  42 tasks      | elapsed:    4.5s\n",
      "[Parallel(n_jobs=-1)]: Done  42 tasks      | elapsed:    5.2s\n",
      "[Parallel(n_jobs=-1)]: Done  42 tasks      | elapsed:    5.4s\n",
      "[Parallel(n_jobs=-1)]: Done 100 out of 100 | elapsed:   11.4s finished\n",
      "[Parallel(n_jobs=-1)]: Done 100 out of 100 | elapsed:   11.8s finished\n",
      "[Parallel(n_jobs=-1)]: Done 100 out of 100 | elapsed:   11.7s finished\n",
      "[Parallel(n_jobs=-1)]: Done 100 out of 100 | elapsed:   11.3s finished\n",
      "[Parallel(n_jobs=4)]: Done  42 tasks      | elapsed:    0.1s\n",
      "[Parallel(n_jobs=4)]: Done  42 tasks      | elapsed:    0.1s\n",
      "[Parallel(n_jobs=4)]: Done  42 tasks      | elapsed:    0.1s\n",
      "[Parallel(n_jobs=4)]: Done  42 tasks      | elapsed:    0.1s\n",
      "[Parallel(n_jobs=4)]: Done 100 out of 100 | elapsed:    0.3s finished\n",
      "[Parallel(n_jobs=4)]: Done 100 out of 100 | elapsed:    0.3s finished\n",
      "[Parallel(n_jobs=4)]: Done 100 out of 100 | elapsed:    0.2s finished\n",
      "[Parallel(n_jobs=4)]: Done 100 out of 100 | elapsed:    0.2s finished\n",
      "[Parallel(n_jobs=-1)]: Done  42 tasks      | elapsed:    3.7s\n",
      "[Parallel(n_jobs=-1)]: Done  42 tasks      | elapsed:    4.1s\n",
      "[Parallel(n_jobs=-1)]: Done  42 tasks      | elapsed:    5.1s\n",
      "[Parallel(n_jobs=-1)]: Done  42 tasks      | elapsed:    5.3s\n",
      "[Parallel(n_jobs=-1)]: Done 100 out of 100 | elapsed:   10.7s finished\n",
      "[Parallel(n_jobs=-1)]: Done 100 out of 100 | elapsed:   11.0s finished\n",
      "[Parallel(n_jobs=-1)]: Done 100 out of 100 | elapsed:   11.1s finished\n",
      "[Parallel(n_jobs=-1)]: Done 100 out of 100 | elapsed:   10.9s finished\n",
      "[Parallel(n_jobs=4)]: Done  42 tasks      | elapsed:    0.1s\n",
      "[Parallel(n_jobs=4)]: Done  42 tasks      | elapsed:    0.1s\n",
      "[Parallel(n_jobs=4)]: Done  42 tasks      | elapsed:    0.1s\n",
      "[Parallel(n_jobs=4)]: Done  42 tasks      | elapsed:    0.1s\n",
      "[Parallel(n_jobs=4)]: Done 100 out of 100 | elapsed:    0.3s finished\n",
      "[Parallel(n_jobs=4)]: Done 100 out of 100 | elapsed:    0.3s finished\n",
      "[Parallel(n_jobs=4)]: Done 100 out of 100 | elapsed:    0.2s finished\n",
      "[Parallel(n_jobs=4)]: Done 100 out of 100 | elapsed:    0.2s finished\n",
      "[Parallel(n_jobs=-1)]: Done  42 tasks      | elapsed:    3.6s\n",
      "[Parallel(n_jobs=-1)]: Done  42 tasks      | elapsed:    4.1s\n",
      "[Parallel(n_jobs=-1)]: Done  42 tasks      | elapsed:    4.9s\n",
      "[Parallel(n_jobs=-1)]: Done  42 tasks      | elapsed:    5.2s\n",
      "[Parallel(n_jobs=-1)]: Done 100 out of 100 | elapsed:   10.6s finished\n",
      "[Parallel(n_jobs=-1)]: Done 100 out of 100 | elapsed:   11.1s finished\n",
      "[Parallel(n_jobs=-1)]: Done 100 out of 100 | elapsed:   10.9s finished\n",
      "[Parallel(n_jobs=-1)]: Done 100 out of 100 | elapsed:   10.3s finished\n",
      "[Parallel(n_jobs=4)]: Done  42 tasks      | elapsed:    0.1s\n",
      "[Parallel(n_jobs=4)]: Done  42 tasks      | elapsed:    0.1s\n",
      "[Parallel(n_jobs=4)]: Done  42 tasks      | elapsed:    0.1s\n",
      "[Parallel(n_jobs=4)]: Done  42 tasks      | elapsed:    0.1s\n",
      "[Parallel(n_jobs=4)]: Done 100 out of 100 | elapsed:    0.2s finished\n",
      "[Parallel(n_jobs=4)]: Done 100 out of 100 | elapsed:    0.3s finished\n",
      "[Parallel(n_jobs=4)]: Done 100 out of 100 | elapsed:    0.2s finished\n",
      "[Parallel(n_jobs=4)]: Done 100 out of 100 | elapsed:    0.2s finished\n",
      "[Parallel(n_jobs=-1)]: Done  42 tasks      | elapsed:    2.5s\n",
      "[Parallel(n_jobs=-1)]: Done  42 tasks      | elapsed:    2.6s\n",
      "[Parallel(n_jobs=-1)]: Done 100 out of 100 | elapsed:    6.0s finished\n",
      "[Parallel(n_jobs=-1)]: Done 100 out of 100 | elapsed:    5.8s finished\n",
      "[Parallel(n_jobs=4)]: Done  42 tasks      | elapsed:    0.1s\n",
      "[Parallel(n_jobs=4)]: Done  42 tasks      | elapsed:    0.1s\n",
      "[Parallel(n_jobs=4)]: Done 100 out of 100 | elapsed:    0.2s finished\n",
      "[Parallel(n_jobs=4)]: Done 100 out of 100 | elapsed:    0.2s finished\n"
     ]
    },
    {
     "name": "stdout",
     "output_type": "stream",
     "text": [
      "{'warm_start': False, 'oob_score': False, 'n_jobs': -1, 'verbose': 1, 'max_leaf_nodes': None, 'bootstrap': True, 'min_samples_leaf': 1, 'n_estimators': 100, 'min_samples_split': 2, 'min_weight_fraction_leaf': 0.0, 'criterion': 'gini', 'random_state': 515, 'max_features': 'sqrt', 'max_depth': 5, 'class_weight': {0: 0.2, 1: 0.8}}\n"
     ]
    }
   ],
   "source": [
    "# grid search for weights\n",
    "from sklearn.grid_search import GridSearchCV\n",
    "\n",
    "RF_class = RandomForestClassifier()\n",
    "params = {\"n_estimators\": [100],\n",
    "          \"max_depth\": [5],\n",
    "          \"max_features\": ['sqrt'],\n",
    "          \"bootstrap\": [True],\n",
    "          \"n_jobs\": [-1],\n",
    "          \"random_state\": [515],\n",
    "          \"verbose\": [1],\n",
    "          \"class_weight\": [{0: .1, 1: .9},\n",
    "                           {0: .15, 1: .85},\n",
    "                           {0: .2, 1: .8},\n",
    "                           {0: .25, 1: .75},\n",
    "                           {0: .3, 1: .7},\n",
    "                           {0: .35, 1: .65}]}\n",
    "\n",
    "gs = GridSearchCV(RF_class, params, n_jobs = -1, verbose = 1)\n",
    "gs.fit(X_train, y_train_class)\n",
    "\n",
    "print gs.best_estimator_.get_params()"
   ]
  },
  {
   "cell_type": "code",
   "execution_count": 46,
   "metadata": {
    "collapsed": false
   },
   "outputs": [
    {
     "name": "stderr",
     "output_type": "stream",
     "text": [
      "[Parallel(n_jobs=-1)]: Done  42 tasks      | elapsed:    2.7s\n",
      "[Parallel(n_jobs=-1)]: Done 100 out of 100 | elapsed:    5.7s finished\n"
     ]
    },
    {
     "data": {
      "text/plain": [
       "RandomForestClassifier(bootstrap=True, class_weight={0: 0.1, 1: 0.9},\n",
       "            criterion='gini', max_depth=5, max_features='sqrt',\n",
       "            max_leaf_nodes=None, min_samples_leaf=1, min_samples_split=2,\n",
       "            min_weight_fraction_leaf=0.0, n_estimators=100, n_jobs=-1,\n",
       "            oob_score=False, random_state=515, verbose=1, warm_start=False)"
      ]
     },
     "execution_count": 46,
     "metadata": {},
     "output_type": "execute_result"
    }
   ],
   "source": [
    "RF_class = RandomForestClassifier(n_estimators=100, \n",
    "                                   max_depth=5, \n",
    "                                   max_features='sqrt', \n",
    "                                   bootstrap=True, \n",
    "                                   n_jobs=-1, \n",
    "                                   random_state=515, \n",
    "                                   verbose=1,\n",
    "                                   class_weight = {0: .1, 1: .9})\n",
    "RF_class.fit(X_train, y_train_class)"
   ]
  },
  {
   "cell_type": "code",
   "execution_count": 64,
   "metadata": {
    "collapsed": false
   },
   "outputs": [],
   "source": [
    "with open('rf_class.pkl', 'wb') as f:\n",
    "    cPickle.dump(RF_class, f)"
   ]
  },
  {
   "cell_type": "code",
   "execution_count": 47,
   "metadata": {
    "collapsed": true
   },
   "outputs": [],
   "source": [
    "from sklearn.metrics import classification_report"
   ]
  },
  {
   "cell_type": "code",
   "execution_count": 48,
   "metadata": {
    "collapsed": false
   },
   "outputs": [
    {
     "name": "stderr",
     "output_type": "stream",
     "text": [
      "[Parallel(n_jobs=4)]: Done  42 tasks      | elapsed:    0.2s\n",
      "[Parallel(n_jobs=4)]: Done 100 out of 100 | elapsed:    0.4s finished\n"
     ]
    },
    {
     "name": "stdout",
     "output_type": "stream",
     "text": [
      "             precision    recall  f1-score   support\n",
      "\n",
      "          0       0.67      0.94      0.78     18064\n",
      "          1       0.62      0.17      0.27     10077\n",
      "\n",
      "avg / total       0.65      0.67      0.60     28141\n",
      "\n"
     ]
    }
   ],
   "source": [
    "print classification_report(RF_class.predict(X_train),y_train_class)"
   ]
  },
  {
   "cell_type": "code",
   "execution_count": 49,
   "metadata": {
    "collapsed": false
   },
   "outputs": [
    {
     "data": {
      "text/plain": [
       "[(0.1471187603345962, u'data_channel_is_world'),\n",
       " (0.11037205663132164, u'num_imgs'),\n",
       " (0.048269291879793556, u'data_channel_is_entertainment'),\n",
       " (0.040016565234216796, u'num_videos'),\n",
       " (0.034688492333863875, u'is_weekend'),\n",
       " (0.029383681899013671, u'data_channel_is_socmed'),\n",
       " (0.026727357325257516, u'global_subjectivity'),\n",
       " (0.026495371915981562, u'weekday_is_sunday'),\n",
       " (0.025797890976048437, u'global_sentiment_abs_polarity'),\n",
       " (0.025723910143998038, u'global_rate_positive_words'),\n",
       " (0.024823538850300138, u'n_tokens_content'),\n",
       " (0.021336407626349026, u'average_token_length_content'),\n",
       " (0.020264691296129164, u'r_non_stop_words'),\n",
       " (0.01949835307936815, u'r_non_stop_unique_tokens'),\n",
       " (0.019177335528688728, u'r_unique_tokens'),\n",
       " (0.019123982388391188, u'average_token_length_title'),\n",
       " (0.018836454926284715, u'LDA_3_prob'),\n",
       " (0.018337714334259712, u'LDA_1_prob'),\n",
       " (0.017201828923908608, u'avg_positive_polarity'),\n",
       " (0.017135481299143197, u'avg_negative_polarity'),\n",
       " (0.015658438339035269, u'LDA_5_prob'),\n",
       " (0.015249817531596708, u'rate_negative_words'),\n",
       " (0.015191731639327799, u'global_sentiment_polarity'),\n",
       " (0.014606507595898382, u'LDA_2_prob'),\n",
       " (0.014506939535930314, u'global_rate_negative_words'),\n",
       " (0.014380525555001038, u'LDA_9_prob'),\n",
       " (0.014045767723778762, u'data_channel_is_bus'),\n",
       " (0.01403718193907728, u'LDA_0_prob'),\n",
       " (0.014020012065461138, u'max_abs_polarity'),\n",
       " (0.013710226986416496, u'global_reading_ease'),\n",
       " (0.011824094384373356, u'min_positive_polarity'),\n",
       " (0.011176911307325312, u'global_grade_level'),\n",
       " (0.0097666469992515794, u'title_subjectivity'),\n",
       " (0.0096273497079218551, u'rate_positive_words'),\n",
       " (0.0093808266734413687, u'title_sentiment_polarity'),\n",
       " (0.0093765735636690897, u'LDA_4_prob'),\n",
       " (0.0090459023934009609, u'LDA_8_prob'),\n",
       " (0.008912676778281203, u'num_tags'),\n",
       " (0.0088920224410843993, u'min_negative_polarity'),\n",
       " (0.0087530814184002201, u'LDA_6_prob'),\n",
       " (0.0086242873583291853, u'LDA_7_prob'),\n",
       " (0.0064910970610679982, u'title_sentiment_abs_polarity'),\n",
       " (0.0062952901434536026, u'max_positive_polarity'),\n",
       " (0.0061477194833744874, u'max_negative_polarity'),\n",
       " (0.004805654882876171, u'data_channel_is_tech'),\n",
       " (0.0047583839762129565, u'weekday_is_saturday'),\n",
       " (0.0046776023288922419, u'n_tokens_title'),\n",
       " (0.0016266974830448236, u'weekday_is_friday'),\n",
       " (0.0014099041950481168, u'data_channel_is_lifestyle'),\n",
       " (0.0011995973627815647, u'weekday_is_thursday'),\n",
       " (0.00076416623514054369, u'weekday_is_wednesday'),\n",
       " (0.00066170855472127152, u'weekday_is_tuesday'),\n",
       " (4.5489429470561637e-05, u'weekday_is_monday'),\n",
       " (0.0, 'const')]"
      ]
     },
     "execution_count": 49,
     "metadata": {},
     "output_type": "execute_result"
    }
   ],
   "source": [
    "sorted(zip(RF_class.feature_importances_,X_train.columns), reverse=True)"
   ]
  },
  {
   "cell_type": "code",
   "execution_count": 50,
   "metadata": {
    "collapsed": false
   },
   "outputs": [
    {
     "data": {
      "text/plain": [
       "DecisionTreeClassifier(class_weight={0: 0.1, 1: 0.9}, criterion='gini',\n",
       "            max_depth=2, max_features=None, max_leaf_nodes=None,\n",
       "            min_samples_leaf=2000, min_samples_split=2,\n",
       "            min_weight_fraction_leaf=0.0, presort=False, random_state=None,\n",
       "            splitter='best')"
      ]
     },
     "execution_count": 50,
     "metadata": {},
     "output_type": "execute_result"
    }
   ],
   "source": [
    "DT_global_subjectivity = DecisionTreeClassifier(max_depth=2, min_samples_leaf=2000, class_weight = {0: .1, 1: .9})\n",
    "DT_global_subjectivity.fit(X_train['global_subjectivity'].reshape(-1, 1), y_train_class)"
   ]
  },
  {
   "cell_type": "code",
   "execution_count": 51,
   "metadata": {
    "collapsed": true
   },
   "outputs": [],
   "source": [
    "dot_data = StringIO() \n",
    "export_graphviz(DT_global_subjectivity,out_file='global_subjectivity.dot',feature_names='global_subjectivity')\n",
    "!dot -Tpng global_subjectivity.dot -o global_subjectivity.png"
   ]
  },
  {
   "cell_type": "markdown",
   "metadata": {},
   "source": [
    "<img src=\"global_subjectivity.png\">"
   ]
  },
  {
   "cell_type": "code",
   "execution_count": null,
   "metadata": {
    "collapsed": true
   },
   "outputs": [],
   "source": []
  }
 ],
 "metadata": {
  "kernelspec": {
   "display_name": "Python 2",
   "language": "python",
   "name": "python2"
  },
  "language_info": {
   "codemirror_mode": {
    "name": "ipython",
    "version": 2
   },
   "file_extension": ".py",
   "mimetype": "text/x-python",
   "name": "python",
   "nbconvert_exporter": "python",
   "pygments_lexer": "ipython2",
   "version": "2.7.10"
  }
 },
 "nbformat": 4,
 "nbformat_minor": 0
}
