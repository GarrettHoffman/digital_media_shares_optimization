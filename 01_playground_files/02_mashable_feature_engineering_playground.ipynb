{
 "cells": [
  {
   "cell_type": "code",
   "execution_count": 1,
   "metadata": {
    "collapsed": false
   },
   "outputs": [],
   "source": [
    "import numpy as np\n",
    "import pandas as pd\n",
    "from __future__ import division"
   ]
  },
  {
   "cell_type": "code",
   "execution_count": 2,
   "metadata": {
    "collapsed": false
   },
   "outputs": [],
   "source": [
    "# define test URL\n",
    "test_url = 'http://mashable.com/2013/01/07/hillary-clinton-helmet/'"
   ]
  },
  {
   "cell_type": "code",
   "execution_count": 3,
   "metadata": {
    "collapsed": false
   },
   "outputs": [
    {
     "data": {
      "text/plain": [
       "'http://mashable.com/2013/01/07/hillary-clinton-helmet/'"
      ]
     },
     "execution_count": 3,
     "metadata": {},
     "output_type": "execute_result"
    }
   ],
   "source": [
    "test_url"
   ]
  },
  {
   "cell_type": "code",
   "execution_count": 4,
   "metadata": {
    "collapsed": true
   },
   "outputs": [],
   "source": [
    "import requests\n",
    "from bs4 import BeautifulSoup\n",
    "import re\n",
    "from pprint import pprint"
   ]
  },
  {
   "cell_type": "code",
   "execution_count": 5,
   "metadata": {
    "collapsed": true
   },
   "outputs": [],
   "source": [
    "# request html data and create soup\n",
    "response = requests.get(test_url)\n",
    "assert response.status_code == 200\n",
    "soup = BeautifulSoup(response.text)"
   ]
  },
  {
   "cell_type": "code",
   "execution_count": 6,
   "metadata": {
    "collapsed": false
   },
   "outputs": [
    {
     "data": {
      "text/plain": [
       "u\"Hillary Clinton's Coworkers Welcome Her Back With a Helmet\""
      ]
     },
     "execution_count": 6,
     "metadata": {},
     "output_type": "execute_result"
    }
   ],
   "source": [
    "headline = soup.find('h1', class_='title').text\n",
    "headline"
   ]
  },
  {
   "cell_type": "code",
   "execution_count": 7,
   "metadata": {
    "collapsed": false
   },
   "outputs": [
    {
     "data": {
      "text/plain": [
       "\"On her first day back to work following a concussion and blood clot, Hillary Clinton's coworkers gave her a bit of a gag gift \\xe2\\x80\\x94 a football helmet. Clinton, 65, was presented with the helmet, along with a matching jersey, during a morning meeting. Both sport official State Department insignia.  The Secretary of State was away from Washington for about a month after suffering a stomach virus then a concussion which led to a blood clot near her brain. Clinton was hospitalized for three days at New York-Presbyterian Hospital Columbia when doctors first discovered the clot on Dec. 30. SEE ALSO: Yes, Secretary Clinton Submitted Her Own 'Text From Hillary'\\n Doctors expect Clinton to make a full recovery. Photos via Nick Merrill, State Department\""
      ]
     },
     "execution_count": 7,
     "metadata": {},
     "output_type": "execute_result"
    }
   ],
   "source": [
    "content_list = [text.text.encode('utf-8') \n",
    "                for text \n",
    "                in soup.find('section', \n",
    "                class_='article-content').find_all('p')]\n",
    "content = reduce(lambda x,y: x + ' ' + y, content_list)\n",
    "content"
   ]
  },
  {
   "cell_type": "markdown",
   "metadata": {},
   "source": [
    "### Header Features"
   ]
  },
  {
   "cell_type": "code",
   "execution_count": 8,
   "metadata": {
    "collapsed": false
   },
   "outputs": [
    {
     "data": {
      "text/plain": [
       "[u'Hillary',\n",
       " u\"Clinton's\",\n",
       " u'Coworkers',\n",
       " u'Welcome',\n",
       " u'Her',\n",
       " u'Back',\n",
       " u'With',\n",
       " u'a',\n",
       " u'Helmet']"
      ]
     },
     "execution_count": 8,
     "metadata": {},
     "output_type": "execute_result"
    }
   ],
   "source": [
    "headline.split()"
   ]
  },
  {
   "cell_type": "code",
   "execution_count": 9,
   "metadata": {
    "collapsed": false
   },
   "outputs": [
    {
     "data": {
      "text/plain": [
       "9"
      ]
     },
     "execution_count": 9,
     "metadata": {},
     "output_type": "execute_result"
    }
   ],
   "source": [
    "# number of words in title\n",
    "n_tokens_title = len(headline.split())\n",
    "n_tokens_title"
   ]
  },
  {
   "cell_type": "code",
   "execution_count": 10,
   "metadata": {
    "collapsed": true
   },
   "outputs": [],
   "source": [
    "import nltk\n",
    "from textblob import TextBlob"
   ]
  },
  {
   "cell_type": "code",
   "execution_count": 11,
   "metadata": {
    "collapsed": false
   },
   "outputs": [
    {
     "data": {
      "text/plain": [
       "0.45"
      ]
     },
     "execution_count": 11,
     "metadata": {},
     "output_type": "execute_result"
    }
   ],
   "source": [
    "# subjectivity\n",
    "title_subjectivity = TextBlob(headline).subjectivity\n",
    "title_subjectivity"
   ]
  },
  {
   "cell_type": "code",
   "execution_count": 12,
   "metadata": {
    "collapsed": false
   },
   "outputs": [
    {
     "data": {
      "text/plain": [
       "0.4"
      ]
     },
     "execution_count": 12,
     "metadata": {},
     "output_type": "execute_result"
    }
   ],
   "source": [
    "# polarity\n",
    "title_sentiment_polarity = TextBlob(headline).polarity\n",
    "title_sentiment_polarity"
   ]
  },
  {
   "cell_type": "code",
   "execution_count": 13,
   "metadata": {
    "collapsed": false
   },
   "outputs": [
    {
     "data": {
      "text/plain": [
       "0.4"
      ]
     },
     "execution_count": 13,
     "metadata": {},
     "output_type": "execute_result"
    }
   ],
   "source": [
    "# absolute value polarirty\n",
    "title_sentiment_abs_polarity = abs(title_sentiment_polarity)\n",
    "title_sentiment_abs_polarity"
   ]
  },
  {
   "cell_type": "code",
   "execution_count": 14,
   "metadata": {
    "collapsed": true
   },
   "outputs": [],
   "source": [
    "import string"
   ]
  },
  {
   "cell_type": "code",
   "execution_count": 15,
   "metadata": {
    "collapsed": false
   },
   "outputs": [
    {
     "data": {
      "text/plain": [
       "5.4444444444444446"
      ]
     },
     "execution_count": 15,
     "metadata": {},
     "output_type": "execute_result"
    }
   ],
   "source": [
    "# average word length\n",
    "average_token_length_title = np.mean([len(w) for w \n",
    "                                      in \"\".join(c for c in headline \n",
    "                                                 if c not in string.punctuation).split()])\n",
    "average_token_length_title"
   ]
  },
  {
   "cell_type": "markdown",
   "metadata": {},
   "source": [
    "### Content Features"
   ]
  },
  {
   "cell_type": "code",
   "execution_count": 16,
   "metadata": {
    "collapsed": false
   },
   "outputs": [
    {
     "data": {
      "text/plain": [
       "124"
      ]
     },
     "execution_count": 16,
     "metadata": {},
     "output_type": "execute_result"
    }
   ],
   "source": [
    "# number of words\n",
    "n_tokens_content = len([w for w in content.split()])\n",
    "n_tokens_content"
   ]
  },
  {
   "cell_type": "code",
   "execution_count": 17,
   "metadata": {
    "collapsed": false
   },
   "outputs": [],
   "source": [
    "from nltk.corpus import stopwords\n",
    "stop = stopwords.words('english')"
   ]
  },
  {
   "cell_type": "code",
   "execution_count": 18,
   "metadata": {
    "collapsed": false
   },
   "outputs": [
    {
     "data": {
      "text/plain": [
       "0.6854838709677419"
      ]
     },
     "execution_count": 18,
     "metadata": {},
     "output_type": "execute_result"
    }
   ],
   "source": [
    "# rate of unique words\n",
    "r_unique_tokens = len(set([w.lower().decode('utf-8')\n",
    "                           for w \n",
    "                           in \"\".join(c for c in content \n",
    "                                      if c not in string.punctuation).split()]))/n_tokens_content\n",
    "r_unique_tokens"
   ]
  },
  {
   "cell_type": "code",
   "execution_count": 19,
   "metadata": {
    "collapsed": false
   },
   "outputs": [
    {
     "data": {
      "text/plain": [
       "0.6935483870967742"
      ]
     },
     "execution_count": 19,
     "metadata": {},
     "output_type": "execute_result"
    }
   ],
   "source": [
    "# rate of non-stop word\n",
    "r_non_stop_words = len([w.lower().decode('utf-8') \n",
    "                        for w in \"\".join(c for c in content \n",
    "                                         if c not in string.punctuation).split() \n",
    "                        if w.decode('utf-8') \n",
    "                        not in stop])/n_tokens_content\n",
    "r_non_stop_words"
   ]
  },
  {
   "cell_type": "code",
   "execution_count": 20,
   "metadata": {
    "collapsed": false
   },
   "outputs": [
    {
     "data": {
      "text/plain": [
       "0.5725806451612904"
      ]
     },
     "execution_count": 20,
     "metadata": {},
     "output_type": "execute_result"
    }
   ],
   "source": [
    "# rate of unique non-stop word\n",
    "r_non_stop_unique_tokens = len(set([w.lower().decode('utf-8') \n",
    "                           for w in \"\".join(c for c in content \n",
    "                                            if c not in string.punctuation).split() \n",
    "                           if w.decode('utf-8') \n",
    "                           not in stop]))/n_tokens_content\n",
    "r_non_stop_unique_tokens"
   ]
  },
  {
   "cell_type": "code",
   "execution_count": 21,
   "metadata": {
    "collapsed": false
   },
   "outputs": [
    {
     "data": {
      "text/plain": [
       "4.887096774193548"
      ]
     },
     "execution_count": 21,
     "metadata": {},
     "output_type": "execute_result"
    }
   ],
   "source": [
    "# average word length\n",
    "average_token_length_content = np.mean([len(w) for w \n",
    "                                        in \"\".join(c for c in content\n",
    "                                                   if c not in string.punctuation).split()])\n",
    "average_token_length_content"
   ]
  },
  {
   "cell_type": "code",
   "execution_count": 22,
   "metadata": {
    "collapsed": false
   },
   "outputs": [
    {
     "data": {
      "text/plain": [
       "0.3964015151515151"
      ]
     },
     "execution_count": 22,
     "metadata": {},
     "output_type": "execute_result"
    }
   ],
   "source": [
    "# subjectivity\n",
    "global_subjectivity = TextBlob(content.decode('utf-8')).subjectivity\n",
    "global_subjectivity"
   ]
  },
  {
   "cell_type": "code",
   "execution_count": 23,
   "metadata": {
    "collapsed": false
   },
   "outputs": [
    {
     "data": {
      "text/plain": [
       "0.21079545454545456"
      ]
     },
     "execution_count": 23,
     "metadata": {},
     "output_type": "execute_result"
    }
   ],
   "source": [
    "# polarity\n",
    "global_sentiment_polarity = TextBlob(content.decode('utf-8')).polarity\n",
    "global_sentiment_polarity"
   ]
  },
  {
   "cell_type": "code",
   "execution_count": 24,
   "metadata": {
    "collapsed": false
   },
   "outputs": [
    {
     "data": {
      "text/plain": [
       "0.21079545454545456"
      ]
     },
     "execution_count": 24,
     "metadata": {},
     "output_type": "execute_result"
    }
   ],
   "source": [
    "# absolute polarity\n",
    "global_sentiment_abs_polarity = abs(global_sentiment_polarity)\n",
    "global_sentiment_abs_polarity"
   ]
  },
  {
   "cell_type": "code",
   "execution_count": 25,
   "metadata": {
    "collapsed": false
   },
   "outputs": [
    {
     "data": {
      "text/plain": [
       "124"
      ]
     },
     "execution_count": 25,
     "metadata": {},
     "output_type": "execute_result"
    }
   ],
   "source": [
    "# get polarity by word\n",
    "polarity_list = [(w.decode('utf-8'), TextBlob(w.decode('utf-8')).polarity) \n",
    "                 for w in \"\".join(c for c in content \n",
    "                                  if c not in string.punctuation).split()]\n",
    "len(polarity_list)"
   ]
  },
  {
   "cell_type": "code",
   "execution_count": 26,
   "metadata": {
    "collapsed": false
   },
   "outputs": [
    {
     "data": {
      "text/plain": [
       "0.04838709677419355"
      ]
     },
     "execution_count": 26,
     "metadata": {},
     "output_type": "execute_result"
    }
   ],
   "source": [
    "# global positive word rate\n",
    "global_rate_positive_words = len([(w,p) \n",
    "                                  for (w,p) \n",
    "                                  in polarity_list \n",
    "                                  if p > 0])/len(polarity_list)\n",
    "global_rate_positive_words"
   ]
  },
  {
   "cell_type": "code",
   "execution_count": 27,
   "metadata": {
    "collapsed": false
   },
   "outputs": [
    {
     "data": {
      "text/plain": [
       "0.0"
      ]
     },
     "execution_count": 27,
     "metadata": {},
     "output_type": "execute_result"
    }
   ],
   "source": [
    "# global negative word rate\n",
    "global_rate_negative_words = len([(w,p) \n",
    "                                  for (w,p) \n",
    "                                  in polarity_list \n",
    "                                  if p < 0])/len(polarity_list)\n",
    "global_rate_negative_words"
   ]
  },
  {
   "cell_type": "code",
   "execution_count": 28,
   "metadata": {
    "collapsed": false
   },
   "outputs": [
    {
     "data": {
      "text/plain": [
       "1.0"
      ]
     },
     "execution_count": 28,
     "metadata": {},
     "output_type": "execute_result"
    }
   ],
   "source": [
    "# positive word rate (among non-nuetral words)\n",
    "if [(w,p) for (w,p) in polarity_list if p != 0]:\n",
    "    rate_positive_words = len([(w,p) \n",
    "                               for (w,p) \n",
    "                               in polarity_list \n",
    "                               if p > 0])/len([(w,p) \n",
    "                                               for (w,p) \n",
    "                                               in polarity_list \n",
    "                                               if p != 0])\n",
    "else:\n",
    "    rate_positive_words = 0\n",
    "rate_positive_words"
   ]
  },
  {
   "cell_type": "code",
   "execution_count": 29,
   "metadata": {
    "collapsed": false
   },
   "outputs": [
    {
     "data": {
      "text/plain": [
       "0.0"
      ]
     },
     "execution_count": 29,
     "metadata": {},
     "output_type": "execute_result"
    }
   ],
   "source": [
    "# negative word rate (among non-nuetral words)\n",
    "if [(w,p) for (w,p) in polarity_list if p != 0]:\n",
    "    rate_negative_words = len([(w,p) \n",
    "                               for (w,p) \n",
    "                               in polarity_list \n",
    "                               if p < 0])/len([(w,p) \n",
    "                                               for (w,p) \n",
    "                                               in polarity_list \n",
    "                                               if p != 0])\n",
    "else:\n",
    "    rate_negative_words = 0\n",
    "rate_negative_words"
   ]
  },
  {
   "cell_type": "code",
   "execution_count": 30,
   "metadata": {
    "collapsed": false
   },
   "outputs": [
    {
     "data": {
      "text/plain": [
       "0.28106060606060607"
      ]
     },
     "execution_count": 30,
     "metadata": {},
     "output_type": "execute_result"
    }
   ],
   "source": [
    "# average polarity of positive words\n",
    "if [p for (w,p) in polarity_list if p > 0]:\n",
    "    avg_positive_polarity = np.mean([p for (w,p) \n",
    "                                     in polarity_list \n",
    "                                     if p > 0])\n",
    "else:\n",
    "    avg_positive_polarity = 0\n",
    "    \n",
    "avg_positive_polarity"
   ]
  },
  {
   "cell_type": "code",
   "execution_count": 31,
   "metadata": {
    "collapsed": false
   },
   "outputs": [
    {
     "data": {
      "text/plain": [
       "0.1"
      ]
     },
     "execution_count": 31,
     "metadata": {},
     "output_type": "execute_result"
    }
   ],
   "source": [
    "# minimum polarity of positive words\n",
    "if [p for (w,p) in polarity_list if p > 0]:\n",
    "    min_positive_polarity = min([p for (w,p) \n",
    "                                 in polarity_list \n",
    "                                 if p > 0])\n",
    "else:\n",
    "    min_positive_polarity = 0\n",
    "min_positive_polarity"
   ]
  },
  {
   "cell_type": "code",
   "execution_count": 32,
   "metadata": {
    "collapsed": false
   },
   "outputs": [
    {
     "data": {
      "text/plain": [
       "0.6"
      ]
     },
     "execution_count": 32,
     "metadata": {},
     "output_type": "execute_result"
    }
   ],
   "source": [
    "# maximum polarity of positive words\n",
    "if [p for (w,p) in polarity_list if p > 0]:\n",
    "    max_positive_polarity = max([p for (w,p) \n",
    "                                 in polarity_list \n",
    "                                 if p > 0])\n",
    "else: \n",
    "    max_positive_polarity = 0\n",
    "max_positive_polarity"
   ]
  },
  {
   "cell_type": "code",
   "execution_count": 33,
   "metadata": {
    "collapsed": false
   },
   "outputs": [
    {
     "data": {
      "text/plain": [
       "0"
      ]
     },
     "execution_count": 33,
     "metadata": {},
     "output_type": "execute_result"
    }
   ],
   "source": [
    "# average polarity of negative words\n",
    "if [p for (w,p) in polarity_list if p < 0]:\n",
    "    avg_negative_polarity = np.mean([p for (w,p) \n",
    "                                     in polarity_list \n",
    "                                     if p < 0])\n",
    "else:\n",
    "    avg_negative_polarity = 0\n",
    "avg_negative_polarity"
   ]
  },
  {
   "cell_type": "code",
   "execution_count": 34,
   "metadata": {
    "collapsed": false
   },
   "outputs": [
    {
     "data": {
      "text/plain": [
       "0"
      ]
     },
     "execution_count": 34,
     "metadata": {},
     "output_type": "execute_result"
    }
   ],
   "source": [
    "# minimum polarity of negative words\n",
    "if [p for (w,p) in polarity_list if p < 0]:\n",
    "    min_negative_polarity = min([p for (w,p) \n",
    "                                 in polarity_list \n",
    "                                 if p < 0])\n",
    "else:\n",
    "    min_negative_polarity = 0\n",
    "min_negative_polarity"
   ]
  },
  {
   "cell_type": "code",
   "execution_count": 35,
   "metadata": {
    "collapsed": false
   },
   "outputs": [
    {
     "data": {
      "text/plain": [
       "0"
      ]
     },
     "execution_count": 35,
     "metadata": {},
     "output_type": "execute_result"
    }
   ],
   "source": [
    "# maximum polarity of negative words\n",
    "if [p for (w,p) in polarity_list if p < 0]:\n",
    "    max_negative_polarity = max([p for (w,p) \n",
    "                             in polarity_list \n",
    "                             if p < 0])\n",
    "else:\n",
    "    max_negative_polarity = 0\n",
    "max_negative_polarity"
   ]
  },
  {
   "cell_type": "code",
   "execution_count": 36,
   "metadata": {
    "collapsed": false
   },
   "outputs": [
    {
     "data": {
      "text/plain": [
       "0.6"
      ]
     },
     "execution_count": 36,
     "metadata": {},
     "output_type": "execute_result"
    }
   ],
   "source": [
    "# abs maximum polarity, sum of abs of max positive and abs of min negative polarity\n",
    "max_abs_polarity = max_positive_polarity + abs(min_negative_polarity)\n",
    "max_abs_polarity"
   ]
  },
  {
   "cell_type": "code",
   "execution_count": 37,
   "metadata": {
    "collapsed": false
   },
   "outputs": [],
   "source": [
    "from textstat.textstat import textstat"
   ]
  },
  {
   "cell_type": "code",
   "execution_count": 38,
   "metadata": {
    "collapsed": false
   },
   "outputs": [
    {
     "data": {
      "text/plain": [
       "62.68"
      ]
     },
     "execution_count": 38,
     "metadata": {},
     "output_type": "execute_result"
    }
   ],
   "source": [
    "# Flesch Reading Ease\n",
    "global_reading_ease = textstat.flesch_reading_ease(content.decode('utf-8'))\n",
    "global_reading_ease"
   ]
  },
  {
   "cell_type": "code",
   "execution_count": 39,
   "metadata": {
    "collapsed": false
   },
   "outputs": [
    {
     "data": {
      "text/plain": [
       "8.7"
      ]
     },
     "execution_count": 39,
     "metadata": {},
     "output_type": "execute_result"
    }
   ],
   "source": [
    "# Flesch Kincaid Grade Level\n",
    "global_grade_level = textstat.flesch_kincaid_grade(content.decode('utf-8'))\n",
    "global_grade_level"
   ]
  }
 ],
 "metadata": {
  "kernelspec": {
   "display_name": "Python 2",
   "language": "python",
   "name": "python2"
  },
  "language_info": {
   "codemirror_mode": {
    "name": "ipython",
    "version": 2
   },
   "file_extension": ".py",
   "mimetype": "text/x-python",
   "name": "python",
   "nbconvert_exporter": "python",
   "pygments_lexer": "ipython2",
   "version": "2.7.10"
  }
 },
 "nbformat": 4,
 "nbformat_minor": 0
}
