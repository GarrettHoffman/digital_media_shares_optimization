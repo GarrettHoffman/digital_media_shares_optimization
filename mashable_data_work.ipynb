{
 "cells": [
  {
   "cell_type": "code",
   "execution_count": 45,
   "metadata": {
    "collapsed": true
   },
   "outputs": [],
   "source": [
    "import numpy as np\n",
    "import pandas as pd"
   ]
  },
  {
   "cell_type": "code",
   "execution_count": 78,
   "metadata": {
    "collapsed": true
   },
   "outputs": [],
   "source": [
    "uci_df = pd.read_csv('OnlineNewsPopularity.csv')"
   ]
  },
  {
   "cell_type": "code",
   "execution_count": 79,
   "metadata": {
    "collapsed": true
   },
   "outputs": [],
   "source": [
    "scrape_df = pd.read_csv('mashable_scrape.csv')"
   ]
  },
  {
   "cell_type": "code",
   "execution_count": 80,
   "metadata": {
    "collapsed": false
   },
   "outputs": [
    {
     "data": {
      "text/html": [
       "<div>\n",
       "<table border=\"1\" class=\"dataframe\">\n",
       "  <thead>\n",
       "    <tr style=\"text-align: right;\">\n",
       "      <th></th>\n",
       "      <th>url</th>\n",
       "      <th>content</th>\n",
       "      <th>title</th>\n",
       "      <th>num_tags</th>\n",
       "    </tr>\n",
       "  </thead>\n",
       "  <tbody>\n",
       "    <tr>\n",
       "      <th>0</th>\n",
       "      <td>http://mashable.com/2013/01/07/amazon-instant-...</td>\n",
       "      <td>Having trouble finding something to watch on A...</td>\n",
       "      <td>Amazon's Streaming Video Library Now a Little ...</td>\n",
       "      <td>4</td>\n",
       "    </tr>\n",
       "    <tr>\n",
       "      <th>1</th>\n",
       "      <td>http://mashable.com/2013/01/07/ap-samsung-spon...</td>\n",
       "      <td>The Associated Press is the latest news organi...</td>\n",
       "      <td>AP's Twitter to Begin Displaying Sponsored Tweets</td>\n",
       "      <td>3</td>\n",
       "    </tr>\n",
       "    <tr>\n",
       "      <th>2</th>\n",
       "      <td>http://mashable.com/2013/01/07/apple-40-billio...</td>\n",
       "      <td>It looks like 2012 was a pretty good year for ...</td>\n",
       "      <td>Apple's App Store Passes 40 Billion Downloads</td>\n",
       "      <td>5</td>\n",
       "    </tr>\n",
       "    <tr>\n",
       "      <th>3</th>\n",
       "      <td>http://mashable.com/2013/01/07/astronaut-notre...</td>\n",
       "      <td>When it comes to college football, NASA astron...</td>\n",
       "      <td>This Astronaut Is Rooting for Notre Dame Tonight</td>\n",
       "      <td>4</td>\n",
       "    </tr>\n",
       "    <tr>\n",
       "      <th>4</th>\n",
       "      <td>http://mashable.com/2013/01/07/att-u-verse-apps/</td>\n",
       "      <td>LAS VEGAS — Sharing photos and videos on your ...</td>\n",
       "      <td>New U-Verse Apps Simplify Sharing Photos and V...</td>\n",
       "      <td>5</td>\n",
       "    </tr>\n",
       "  </tbody>\n",
       "</table>\n",
       "</div>"
      ],
      "text/plain": [
       "                                                 url  \\\n",
       "0  http://mashable.com/2013/01/07/amazon-instant-...   \n",
       "1  http://mashable.com/2013/01/07/ap-samsung-spon...   \n",
       "2  http://mashable.com/2013/01/07/apple-40-billio...   \n",
       "3  http://mashable.com/2013/01/07/astronaut-notre...   \n",
       "4   http://mashable.com/2013/01/07/att-u-verse-apps/   \n",
       "\n",
       "                                             content  \\\n",
       "0  Having trouble finding something to watch on A...   \n",
       "1  The Associated Press is the latest news organi...   \n",
       "2  It looks like 2012 was a pretty good year for ...   \n",
       "3  When it comes to college football, NASA astron...   \n",
       "4  LAS VEGAS — Sharing photos and videos on your ...   \n",
       "\n",
       "                                               title  num_tags  \n",
       "0  Amazon's Streaming Video Library Now a Little ...         4  \n",
       "1  AP's Twitter to Begin Displaying Sponsored Tweets         3  \n",
       "2      Apple's App Store Passes 40 Billion Downloads         5  \n",
       "3   This Astronaut Is Rooting for Notre Dame Tonight         4  \n",
       "4  New U-Verse Apps Simplify Sharing Photos and V...         5  "
      ]
     },
     "execution_count": 80,
     "metadata": {},
     "output_type": "execute_result"
    }
   ],
   "source": [
    "scrape_df.head()"
   ]
  },
  {
   "cell_type": "code",
   "execution_count": 81,
   "metadata": {
    "collapsed": false
   },
   "outputs": [
    {
     "data": {
      "text/plain": [
       "True"
      ]
     },
     "execution_count": 81,
     "metadata": {},
     "output_type": "execute_result"
    }
   ],
   "source": [
    "len(uci_df) == len(scrape_df)"
   ]
  },
  {
   "cell_type": "code",
   "execution_count": 82,
   "metadata": {
    "collapsed": false
   },
   "outputs": [
    {
     "data": {
      "text/plain": [
       "array(['url', ' timedelta', ' n_tokens_title', ' n_tokens_content',\n",
       "       ' n_unique_tokens', ' n_non_stop_words',\n",
       "       ' n_non_stop_unique_tokens', ' num_hrefs', ' num_self_hrefs',\n",
       "       ' num_imgs', ' num_videos', ' average_token_length',\n",
       "       ' num_keywords', ' data_channel_is_lifestyle',\n",
       "       ' data_channel_is_entertainment', ' data_channel_is_bus',\n",
       "       ' data_channel_is_socmed', ' data_channel_is_tech',\n",
       "       ' data_channel_is_world', ' kw_min_min', ' kw_max_min',\n",
       "       ' kw_avg_min', ' kw_min_max', ' kw_max_max', ' kw_avg_max',\n",
       "       ' kw_min_avg', ' kw_max_avg', ' kw_avg_avg',\n",
       "       ' self_reference_min_shares', ' self_reference_max_shares',\n",
       "       ' self_reference_avg_sharess', ' weekday_is_monday',\n",
       "       ' weekday_is_tuesday', ' weekday_is_wednesday',\n",
       "       ' weekday_is_thursday', ' weekday_is_friday',\n",
       "       ' weekday_is_saturday', ' weekday_is_sunday', ' is_weekend',\n",
       "       ' LDA_00', ' LDA_01', ' LDA_02', ' LDA_03', ' LDA_04',\n",
       "       ' global_subjectivity', ' global_sentiment_polarity',\n",
       "       ' global_rate_positive_words', ' global_rate_negative_words',\n",
       "       ' rate_positive_words', ' rate_negative_words',\n",
       "       ' avg_positive_polarity', ' min_positive_polarity',\n",
       "       ' max_positive_polarity', ' avg_negative_polarity',\n",
       "       ' min_negative_polarity', ' max_negative_polarity',\n",
       "       ' title_subjectivity', ' title_sentiment_polarity',\n",
       "       ' abs_title_subjectivity', ' abs_title_sentiment_polarity',\n",
       "       ' shares'], dtype=object)"
      ]
     },
     "execution_count": 82,
     "metadata": {},
     "output_type": "execute_result"
    }
   ],
   "source": [
    "uci_df.columns.values"
   ]
  },
  {
   "cell_type": "code",
   "execution_count": 99,
   "metadata": {
    "collapsed": true
   },
   "outputs": [],
   "source": [
    "fields = ['url',\n",
    "          ' num_imgs',\n",
    "          ' num_videos',\n",
    "          ' data_channel_is_lifestyle',\n",
    "          ' data_channel_is_entertainment', \n",
    "          ' data_channel_is_bus',\n",
    "          ' data_channel_is_socmed', \n",
    "          ' data_channel_is_tech',\n",
    "          ' data_channel_is_world',\n",
    "          ' weekday_is_monday',\n",
    "          ' weekday_is_tuesday',\n",
    "          ' weekday_is_wednesday',\n",
    "          ' weekday_is_thursday', \n",
    "          ' weekday_is_friday',\n",
    "          ' weekday_is_saturday',\n",
    "          ' weekday_is_sunday',\n",
    "          ' is_weekend',\n",
    "          ' shares']"
   ]
  },
  {
   "cell_type": "code",
   "execution_count": 101,
   "metadata": {
    "collapsed": false
   },
   "outputs": [],
   "source": [
    "data_for_merge = uci_df[fields]"
   ]
  },
  {
   "cell_type": "code",
   "execution_count": 92,
   "metadata": {
    "collapsed": false
   },
   "outputs": [
    {
     "data": {
      "text/html": [
       "<div>\n",
       "<table border=\"1\" class=\"dataframe\">\n",
       "  <thead>\n",
       "    <tr style=\"text-align: right;\">\n",
       "      <th></th>\n",
       "      <th>url</th>\n",
       "      <th>num_imgs</th>\n",
       "      <th>num_videos</th>\n",
       "      <th>data_channel_is_lifestyle</th>\n",
       "      <th>data_channel_is_entertainment</th>\n",
       "      <th>data_channel_is_bus</th>\n",
       "      <th>data_channel_is_socmed</th>\n",
       "      <th>data_channel_is_tech</th>\n",
       "      <th>data_channel_is_world</th>\n",
       "      <th>weekday_is_monday</th>\n",
       "      <th>weekday_is_tuesday</th>\n",
       "      <th>weekday_is_wednesday</th>\n",
       "      <th>weekday_is_thursday</th>\n",
       "      <th>weekday_is_friday</th>\n",
       "      <th>weekday_is_saturday</th>\n",
       "      <th>weekday_is_sunday</th>\n",
       "      <th>is_weekend</th>\n",
       "      <th>shares</th>\n",
       "    </tr>\n",
       "  </thead>\n",
       "  <tbody>\n",
       "    <tr>\n",
       "      <th>0</th>\n",
       "      <td>http://mashable.com/2013/01/07/amazon-instant-...</td>\n",
       "      <td>1</td>\n",
       "      <td>0</td>\n",
       "      <td>0</td>\n",
       "      <td>1</td>\n",
       "      <td>0</td>\n",
       "      <td>0</td>\n",
       "      <td>0</td>\n",
       "      <td>0</td>\n",
       "      <td>1</td>\n",
       "      <td>0</td>\n",
       "      <td>0</td>\n",
       "      <td>0</td>\n",
       "      <td>0</td>\n",
       "      <td>0</td>\n",
       "      <td>0</td>\n",
       "      <td>0</td>\n",
       "      <td>593</td>\n",
       "    </tr>\n",
       "    <tr>\n",
       "      <th>1</th>\n",
       "      <td>http://mashable.com/2013/01/07/ap-samsung-spon...</td>\n",
       "      <td>1</td>\n",
       "      <td>0</td>\n",
       "      <td>0</td>\n",
       "      <td>0</td>\n",
       "      <td>1</td>\n",
       "      <td>0</td>\n",
       "      <td>0</td>\n",
       "      <td>0</td>\n",
       "      <td>1</td>\n",
       "      <td>0</td>\n",
       "      <td>0</td>\n",
       "      <td>0</td>\n",
       "      <td>0</td>\n",
       "      <td>0</td>\n",
       "      <td>0</td>\n",
       "      <td>0</td>\n",
       "      <td>711</td>\n",
       "    </tr>\n",
       "    <tr>\n",
       "      <th>2</th>\n",
       "      <td>http://mashable.com/2013/01/07/apple-40-billio...</td>\n",
       "      <td>1</td>\n",
       "      <td>0</td>\n",
       "      <td>0</td>\n",
       "      <td>0</td>\n",
       "      <td>1</td>\n",
       "      <td>0</td>\n",
       "      <td>0</td>\n",
       "      <td>0</td>\n",
       "      <td>1</td>\n",
       "      <td>0</td>\n",
       "      <td>0</td>\n",
       "      <td>0</td>\n",
       "      <td>0</td>\n",
       "      <td>0</td>\n",
       "      <td>0</td>\n",
       "      <td>0</td>\n",
       "      <td>1500</td>\n",
       "    </tr>\n",
       "    <tr>\n",
       "      <th>3</th>\n",
       "      <td>http://mashable.com/2013/01/07/astronaut-notre...</td>\n",
       "      <td>1</td>\n",
       "      <td>0</td>\n",
       "      <td>0</td>\n",
       "      <td>1</td>\n",
       "      <td>0</td>\n",
       "      <td>0</td>\n",
       "      <td>0</td>\n",
       "      <td>0</td>\n",
       "      <td>1</td>\n",
       "      <td>0</td>\n",
       "      <td>0</td>\n",
       "      <td>0</td>\n",
       "      <td>0</td>\n",
       "      <td>0</td>\n",
       "      <td>0</td>\n",
       "      <td>0</td>\n",
       "      <td>1200</td>\n",
       "    </tr>\n",
       "    <tr>\n",
       "      <th>4</th>\n",
       "      <td>http://mashable.com/2013/01/07/att-u-verse-apps/</td>\n",
       "      <td>20</td>\n",
       "      <td>0</td>\n",
       "      <td>0</td>\n",
       "      <td>0</td>\n",
       "      <td>0</td>\n",
       "      <td>0</td>\n",
       "      <td>1</td>\n",
       "      <td>0</td>\n",
       "      <td>1</td>\n",
       "      <td>0</td>\n",
       "      <td>0</td>\n",
       "      <td>0</td>\n",
       "      <td>0</td>\n",
       "      <td>0</td>\n",
       "      <td>0</td>\n",
       "      <td>0</td>\n",
       "      <td>505</td>\n",
       "    </tr>\n",
       "  </tbody>\n",
       "</table>\n",
       "</div>"
      ],
      "text/plain": [
       "                                                 url   num_imgs   num_videos  \\\n",
       "0  http://mashable.com/2013/01/07/amazon-instant-...          1            0   \n",
       "1  http://mashable.com/2013/01/07/ap-samsung-spon...          1            0   \n",
       "2  http://mashable.com/2013/01/07/apple-40-billio...          1            0   \n",
       "3  http://mashable.com/2013/01/07/astronaut-notre...          1            0   \n",
       "4   http://mashable.com/2013/01/07/att-u-verse-apps/         20            0   \n",
       "\n",
       "    data_channel_is_lifestyle   data_channel_is_entertainment  \\\n",
       "0                           0                               1   \n",
       "1                           0                               0   \n",
       "2                           0                               0   \n",
       "3                           0                               1   \n",
       "4                           0                               0   \n",
       "\n",
       "    data_channel_is_bus   data_channel_is_socmed   data_channel_is_tech  \\\n",
       "0                     0                        0                      0   \n",
       "1                     1                        0                      0   \n",
       "2                     1                        0                      0   \n",
       "3                     0                        0                      0   \n",
       "4                     0                        0                      1   \n",
       "\n",
       "    data_channel_is_world   weekday_is_monday   weekday_is_tuesday  \\\n",
       "0                       0                   1                    0   \n",
       "1                       0                   1                    0   \n",
       "2                       0                   1                    0   \n",
       "3                       0                   1                    0   \n",
       "4                       0                   1                    0   \n",
       "\n",
       "    weekday_is_wednesday   weekday_is_thursday   weekday_is_friday  \\\n",
       "0                      0                     0                   0   \n",
       "1                      0                     0                   0   \n",
       "2                      0                     0                   0   \n",
       "3                      0                     0                   0   \n",
       "4                      0                     0                   0   \n",
       "\n",
       "    weekday_is_saturday   weekday_is_sunday   is_weekend   shares  \n",
       "0                     0                   0            0      593  \n",
       "1                     0                   0            0      711  \n",
       "2                     0                   0            0     1500  \n",
       "3                     0                   0            0     1200  \n",
       "4                     0                   0            0      505  "
      ]
     },
     "execution_count": 92,
     "metadata": {},
     "output_type": "execute_result"
    }
   ],
   "source": [
    "data_for_merge.head()"
   ]
  },
  {
   "cell_type": "code",
   "execution_count": 103,
   "metadata": {
    "collapsed": false
   },
   "outputs": [],
   "source": [
    "fix_column_names = [w.strip() for w in fields]"
   ]
  },
  {
   "cell_type": "code",
   "execution_count": 104,
   "metadata": {
    "collapsed": false
   },
   "outputs": [],
   "source": [
    "data_for_merge.columns = fix_column_names"
   ]
  },
  {
   "cell_type": "code",
   "execution_count": 105,
   "metadata": {
    "collapsed": false
   },
   "outputs": [
    {
     "data": {
      "text/plain": [
       "Index([u'url', u'num_imgs', u'num_videos', u'data_channel_is_lifestyle',\n",
       "       u'data_channel_is_entertainment', u'data_channel_is_bus',\n",
       "       u'data_channel_is_socmed', u'data_channel_is_tech',\n",
       "       u'data_channel_is_world', u'weekday_is_monday', u'weekday_is_tuesday',\n",
       "       u'weekday_is_wednesday', u'weekday_is_thursday', u'weekday_is_friday',\n",
       "       u'weekday_is_saturday', u'weekday_is_sunday', u'is_weekend', u'shares'],\n",
       "      dtype='object')"
      ]
     },
     "execution_count": 105,
     "metadata": {},
     "output_type": "execute_result"
    }
   ],
   "source": [
    "data_for_merge.columns"
   ]
  },
  {
   "cell_type": "code",
   "execution_count": 106,
   "metadata": {
    "collapsed": true
   },
   "outputs": [],
   "source": [
    "mash_df = scrape_df.merge(data_for_merge, on='url', how='left')"
   ]
  },
  {
   "cell_type": "code",
   "execution_count": 122,
   "metadata": {
    "collapsed": false,
    "scrolled": false
   },
   "outputs": [
    {
     "data": {
      "text/html": [
       "<div>\n",
       "<table border=\"1\" class=\"dataframe\">\n",
       "  <thead>\n",
       "    <tr style=\"text-align: right;\">\n",
       "      <th></th>\n",
       "      <th>url</th>\n",
       "      <th>content</th>\n",
       "      <th>title</th>\n",
       "      <th>num_tags</th>\n",
       "      <th>num_imgs</th>\n",
       "      <th>num_videos</th>\n",
       "      <th>data_channel_is_lifestyle</th>\n",
       "      <th>data_channel_is_entertainment</th>\n",
       "      <th>data_channel_is_bus</th>\n",
       "      <th>data_channel_is_socmed</th>\n",
       "      <th>...</th>\n",
       "      <th>data_channel_is_world</th>\n",
       "      <th>weekday_is_monday</th>\n",
       "      <th>weekday_is_tuesday</th>\n",
       "      <th>weekday_is_wednesday</th>\n",
       "      <th>weekday_is_thursday</th>\n",
       "      <th>weekday_is_friday</th>\n",
       "      <th>weekday_is_saturday</th>\n",
       "      <th>weekday_is_sunday</th>\n",
       "      <th>is_weekend</th>\n",
       "      <th>shares</th>\n",
       "    </tr>\n",
       "  </thead>\n",
       "  <tbody>\n",
       "    <tr>\n",
       "      <th>0</th>\n",
       "      <td>http://mashable.com/2013/01/07/amazon-instant-...</td>\n",
       "      <td>Having trouble finding something to watch on A...</td>\n",
       "      <td>Amazon's Streaming Video Library Now a Little ...</td>\n",
       "      <td>4</td>\n",
       "      <td>1</td>\n",
       "      <td>0</td>\n",
       "      <td>0</td>\n",
       "      <td>1</td>\n",
       "      <td>0</td>\n",
       "      <td>0</td>\n",
       "      <td>...</td>\n",
       "      <td>0</td>\n",
       "      <td>1</td>\n",
       "      <td>0</td>\n",
       "      <td>0</td>\n",
       "      <td>0</td>\n",
       "      <td>0</td>\n",
       "      <td>0</td>\n",
       "      <td>0</td>\n",
       "      <td>0</td>\n",
       "      <td>593</td>\n",
       "    </tr>\n",
       "  </tbody>\n",
       "</table>\n",
       "<p>1 rows × 21 columns</p>\n",
       "</div>"
      ],
      "text/plain": [
       "                                                 url  \\\n",
       "0  http://mashable.com/2013/01/07/amazon-instant-...   \n",
       "\n",
       "                                             content  \\\n",
       "0  Having trouble finding something to watch on A...   \n",
       "\n",
       "                                               title  num_tags  num_imgs  \\\n",
       "0  Amazon's Streaming Video Library Now a Little ...         4         1   \n",
       "\n",
       "   num_videos  data_channel_is_lifestyle  data_channel_is_entertainment  \\\n",
       "0           0                          0                              1   \n",
       "\n",
       "   data_channel_is_bus  data_channel_is_socmed   ...    data_channel_is_world  \\\n",
       "0                    0                       0   ...                        0   \n",
       "\n",
       "   weekday_is_monday  weekday_is_tuesday  weekday_is_wednesday  \\\n",
       "0                  1                   0                     0   \n",
       "\n",
       "   weekday_is_thursday  weekday_is_friday  weekday_is_saturday  \\\n",
       "0                    0                  0                    0   \n",
       "\n",
       "   weekday_is_sunday  is_weekend  shares  \n",
       "0                  0           0     593  \n",
       "\n",
       "[1 rows x 21 columns]"
      ]
     },
     "execution_count": 122,
     "metadata": {},
     "output_type": "execute_result"
    }
   ],
   "source": [
    "mash_df.head(1)"
   ]
  },
  {
   "cell_type": "code",
   "execution_count": 117,
   "metadata": {
    "collapsed": false
   },
   "outputs": [],
   "source": [
    "mash_df_final = mash_df[mash_df['content'].notnull()]"
   ]
  },
  {
   "cell_type": "code",
   "execution_count": 121,
   "metadata": {
    "collapsed": false
   },
   "outputs": [
    {
     "data": {
      "text/plain": [
       "39494"
      ]
     },
     "execution_count": 121,
     "metadata": {},
     "output_type": "execute_result"
    }
   ],
   "source": [
    "len(mash_df_final)"
   ]
  },
  {
   "cell_type": "code",
   "execution_count": 120,
   "metadata": {
    "collapsed": true
   },
   "outputs": [],
   "source": [
    "mash_df_final.to_csv('mashable_final.csv', \n",
    "                   index=False,\n",
    "                   header=True)"
   ]
  }
 ],
 "metadata": {
  "kernelspec": {
   "display_name": "Python 2",
   "language": "python",
   "name": "python2"
  },
  "language_info": {
   "codemirror_mode": {
    "name": "ipython",
    "version": 2
   },
   "file_extension": ".py",
   "mimetype": "text/x-python",
   "name": "python",
   "nbconvert_exporter": "python",
   "pygments_lexer": "ipython2",
   "version": "2.7.10"
  }
 },
 "nbformat": 4,
 "nbformat_minor": 0
}
