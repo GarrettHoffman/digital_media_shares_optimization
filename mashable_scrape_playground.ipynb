{
 "cells": [
  {
   "cell_type": "code",
   "execution_count": 1,
   "metadata": {
    "collapsed": true
   },
   "outputs": [],
   "source": [
    "import numpy as np\n",
    "import pandas as pd"
   ]
  },
  {
   "cell_type": "code",
   "execution_count": 2,
   "metadata": {
    "collapsed": true
   },
   "outputs": [],
   "source": [
    "mash_df = pd.read_csv('OnlineNewsPopularity.csv')"
   ]
  },
  {
   "cell_type": "code",
   "execution_count": 3,
   "metadata": {
    "collapsed": false
   },
   "outputs": [
    {
     "data": {
      "text/html": [
       "<div>\n",
       "<table border=\"1\" class=\"dataframe\">\n",
       "  <thead>\n",
       "    <tr style=\"text-align: right;\">\n",
       "      <th></th>\n",
       "      <th>url</th>\n",
       "      <th>timedelta</th>\n",
       "      <th>n_tokens_title</th>\n",
       "      <th>n_tokens_content</th>\n",
       "      <th>n_unique_tokens</th>\n",
       "      <th>n_non_stop_words</th>\n",
       "      <th>n_non_stop_unique_tokens</th>\n",
       "      <th>num_hrefs</th>\n",
       "      <th>num_self_hrefs</th>\n",
       "      <th>num_imgs</th>\n",
       "      <th>...</th>\n",
       "      <th>min_positive_polarity</th>\n",
       "      <th>max_positive_polarity</th>\n",
       "      <th>avg_negative_polarity</th>\n",
       "      <th>min_negative_polarity</th>\n",
       "      <th>max_negative_polarity</th>\n",
       "      <th>title_subjectivity</th>\n",
       "      <th>title_sentiment_polarity</th>\n",
       "      <th>abs_title_subjectivity</th>\n",
       "      <th>abs_title_sentiment_polarity</th>\n",
       "      <th>shares</th>\n",
       "    </tr>\n",
       "  </thead>\n",
       "  <tbody>\n",
       "    <tr>\n",
       "      <th>0</th>\n",
       "      <td>http://mashable.com/2013/01/07/amazon-instant-...</td>\n",
       "      <td>731</td>\n",
       "      <td>12</td>\n",
       "      <td>219</td>\n",
       "      <td>0.663594</td>\n",
       "      <td>1</td>\n",
       "      <td>0.815385</td>\n",
       "      <td>4</td>\n",
       "      <td>2</td>\n",
       "      <td>1</td>\n",
       "      <td>...</td>\n",
       "      <td>0.100000</td>\n",
       "      <td>0.7</td>\n",
       "      <td>-0.35000</td>\n",
       "      <td>-0.600</td>\n",
       "      <td>-0.2</td>\n",
       "      <td>0.5</td>\n",
       "      <td>-0.1875</td>\n",
       "      <td>0.0</td>\n",
       "      <td>0.1875</td>\n",
       "      <td>593</td>\n",
       "    </tr>\n",
       "    <tr>\n",
       "      <th>1</th>\n",
       "      <td>http://mashable.com/2013/01/07/ap-samsung-spon...</td>\n",
       "      <td>731</td>\n",
       "      <td>9</td>\n",
       "      <td>255</td>\n",
       "      <td>0.604743</td>\n",
       "      <td>1</td>\n",
       "      <td>0.791946</td>\n",
       "      <td>3</td>\n",
       "      <td>1</td>\n",
       "      <td>1</td>\n",
       "      <td>...</td>\n",
       "      <td>0.033333</td>\n",
       "      <td>0.7</td>\n",
       "      <td>-0.11875</td>\n",
       "      <td>-0.125</td>\n",
       "      <td>-0.1</td>\n",
       "      <td>0.0</td>\n",
       "      <td>0.0000</td>\n",
       "      <td>0.5</td>\n",
       "      <td>0.0000</td>\n",
       "      <td>711</td>\n",
       "    </tr>\n",
       "  </tbody>\n",
       "</table>\n",
       "<p>2 rows × 61 columns</p>\n",
       "</div>"
      ],
      "text/plain": [
       "                                                 url   timedelta  \\\n",
       "0  http://mashable.com/2013/01/07/amazon-instant-...         731   \n",
       "1  http://mashable.com/2013/01/07/ap-samsung-spon...         731   \n",
       "\n",
       "    n_tokens_title   n_tokens_content   n_unique_tokens   n_non_stop_words  \\\n",
       "0               12                219          0.663594                  1   \n",
       "1                9                255          0.604743                  1   \n",
       "\n",
       "    n_non_stop_unique_tokens   num_hrefs   num_self_hrefs   num_imgs   ...     \\\n",
       "0                   0.815385           4                2          1   ...      \n",
       "1                   0.791946           3                1          1   ...      \n",
       "\n",
       "    min_positive_polarity   max_positive_polarity   avg_negative_polarity  \\\n",
       "0                0.100000                     0.7                -0.35000   \n",
       "1                0.033333                     0.7                -0.11875   \n",
       "\n",
       "    min_negative_polarity   max_negative_polarity   title_subjectivity  \\\n",
       "0                  -0.600                    -0.2                  0.5   \n",
       "1                  -0.125                    -0.1                  0.0   \n",
       "\n",
       "    title_sentiment_polarity   abs_title_subjectivity  \\\n",
       "0                    -0.1875                      0.0   \n",
       "1                     0.0000                      0.5   \n",
       "\n",
       "    abs_title_sentiment_polarity   shares  \n",
       "0                         0.1875      593  \n",
       "1                         0.0000      711  \n",
       "\n",
       "[2 rows x 61 columns]"
      ]
     },
     "execution_count": 3,
     "metadata": {},
     "output_type": "execute_result"
    }
   ],
   "source": [
    "mash_df.head(2)"
   ]
  },
  {
   "cell_type": "code",
   "execution_count": 4,
   "metadata": {
    "collapsed": false
   },
   "outputs": [],
   "source": [
    "mash_url = mash_df.url.values.tolist()"
   ]
  },
  {
   "cell_type": "code",
   "execution_count": 5,
   "metadata": {
    "collapsed": false
   },
   "outputs": [
    {
     "data": {
      "text/plain": [
       "39644"
      ]
     },
     "execution_count": 5,
     "metadata": {},
     "output_type": "execute_result"
    }
   ],
   "source": [
    "len(mash_url)"
   ]
  },
  {
   "cell_type": "code",
   "execution_count": 6,
   "metadata": {
    "collapsed": false
   },
   "outputs": [
    {
     "data": {
      "text/plain": [
       "['http://mashable.com/2013/01/07/amazon-instant-video-browser/',\n",
       " 'http://mashable.com/2013/01/07/ap-samsung-sponsored-tweets/']"
      ]
     },
     "execution_count": 6,
     "metadata": {},
     "output_type": "execute_result"
    }
   ],
   "source": [
    "mash_url[:2]"
   ]
  },
  {
   "cell_type": "code",
   "execution_count": 7,
   "metadata": {
    "collapsed": true
   },
   "outputs": [],
   "source": [
    "test_url = mash_url[0]"
   ]
  },
  {
   "cell_type": "code",
   "execution_count": 8,
   "metadata": {
    "collapsed": false
   },
   "outputs": [],
   "source": [
    "import requests\n",
    "from bs4 import BeautifulSoup\n",
    "import re\n",
    "from pprint import pprint"
   ]
  },
  {
   "cell_type": "code",
   "execution_count": 9,
   "metadata": {
    "collapsed": true
   },
   "outputs": [],
   "source": [
    "# request html data and create soup\n",
    "response = requests.get(test_url)\n",
    "assert response.status_code == 200\n",
    "soup = BeautifulSoup(response.text)"
   ]
  },
  {
   "cell_type": "code",
   "execution_count": 10,
   "metadata": {
    "collapsed": false
   },
   "outputs": [
    {
     "data": {
      "text/plain": [
       "u\"Amazon's Streaming Video Library Now a Little Easier to Navigate\""
      ]
     },
     "execution_count": 10,
     "metadata": {},
     "output_type": "execute_result"
    }
   ],
   "source": [
    "soup.title.text"
   ]
  },
  {
   "cell_type": "code",
   "execution_count": 11,
   "metadata": {
    "collapsed": false
   },
   "outputs": [
    {
     "data": {
      "text/plain": [
       "u\"Amazon's Streaming Video Library Now a Little Easier to Navigate\""
      ]
     },
     "execution_count": 11,
     "metadata": {},
     "output_type": "execute_result"
    }
   ],
   "source": [
    "soup.find('h1', class_='title').text"
   ]
  },
  {
   "cell_type": "code",
   "execution_count": 12,
   "metadata": {
    "collapsed": false
   },
   "outputs": [
    {
     "data": {
      "text/plain": [
       "<section class=\"article-content\">\n",
       "<p>Having trouble finding something to watch on <a href=\"http://mashable.com/category/amazon/\">Amazon</a> Instant Video? The retailer launched Monday an <a href=\"http://www.amazon.com/gp/videofinder/ref=aiv_vf_p1_fil_tv?ie=UTF8&amp;mv=0&amp;tv=0\" target=\"_blank\">experimental browsing tool</a> that lets users discover movies and TV shows based on their genre preferences or simply the mood they're in.</p>\n",
       "<p>Movies and shows are divided up into categories, some of which bear the names of genres (i.e., \"Comedy\" and \"Mystery/Thriller\"), and others which are labeled by mood, such as \"Feel-Good\" and \"Exciting.\" Users can toggle between TV shows and movies, and apply filters to show only videos that are available for free viewing to Prime subscribers, or ones that bear G or PG ratings.</p>\n",
       "<p>It's pretty basic, but it sure beats the haphazard organization of Amazon's <a href=\"http://www.amazon.com/Instant-Video/b/ref=topnav_storetab_mov_aiv?ie=UTF8&amp;node=2858778011\" target=\"_blank\">current Instant Video</a> page, which mixes rows of new releases with bestsellers and personal recommendations.</p>\n",
       "<p>The move is the latest in a series of investment's Amazon is making in its streaming video platform. Last week, the company <a data-crackerjax=\"#post-slider\" href=\"http://mashable.com/2013/01/04/amazon-video-ae-history-lifetime/\">inked a licensing agreement</a> with A+E Networks to bring past seasons of shows from A&amp;E, History, Lifetime and Bio to its streaming library — shows, it should be noted, that Netflix subscribers lost access to in the fall. Amazon claims its streaming Prime catalog now numbers more than 33,000, double what it was a year ago.</p>\n",
       "<p><em>Screenshot courtesy of Amazon.com</em></p>\n",
       "</section>"
      ]
     },
     "execution_count": 12,
     "metadata": {},
     "output_type": "execute_result"
    }
   ],
   "source": [
    "soup.find('section', class_='article-content')"
   ]
  },
  {
   "cell_type": "code",
   "execution_count": 13,
   "metadata": {
    "collapsed": false
   },
   "outputs": [
    {
     "data": {
      "text/plain": [
       "[\"Having trouble finding something to watch on Amazon Instant Video? The retailer launched Monday an experimental browsing tool that lets users discover movies and TV shows based on their genre preferences or simply the mood they're in.\",\n",
       " 'Movies and shows are divided up into categories, some of which bear the names of genres (i.e., \"Comedy\" and \"Mystery/Thriller\"), and others which are labeled by mood, such as \"Feel-Good\" and \"Exciting.\" Users can toggle between TV shows and movies, and apply filters to show only videos that are available for free viewing to Prime subscribers, or ones that bear G or PG ratings.',\n",
       " \"It's pretty basic, but it sure beats the haphazard organization of Amazon's current Instant Video page, which mixes rows of new releases with bestsellers and personal recommendations.\",\n",
       " \"The move is the latest in a series of investment's Amazon is making in its streaming video platform. Last week, the company inked a licensing agreement with A+E Networks to bring past seasons of shows from A&E, History, Lifetime and Bio to its streaming library \\xe2\\x80\\x94 shows, it should be noted, that Netflix subscribers lost access to in the fall. Amazon claims its streaming Prime catalog now numbers more than 33,000, double what it was a year ago.\",\n",
       " 'Screenshot courtesy of Amazon.com']"
      ]
     },
     "execution_count": 13,
     "metadata": {},
     "output_type": "execute_result"
    }
   ],
   "source": [
    "content_list = [text.text.encode('utf-8') for text in soup.find('section', class_='article-content').find_all('p')]\n",
    "content_list"
   ]
  },
  {
   "cell_type": "code",
   "execution_count": 14,
   "metadata": {
    "collapsed": false
   },
   "outputs": [
    {
     "data": {
      "text/plain": [
       "'Having trouble finding something to watch on Amazon Instant Video? The retailer launched Monday an experimental browsing tool that lets users discover movies and TV shows based on their genre preferences or simply the mood they\\'re in. Movies and shows are divided up into categories, some of which bear the names of genres (i.e., \"Comedy\" and \"Mystery/Thriller\"), and others which are labeled by mood, such as \"Feel-Good\" and \"Exciting.\" Users can toggle between TV shows and movies, and apply filters to show only videos that are available for free viewing to Prime subscribers, or ones that bear G or PG ratings. It\\'s pretty basic, but it sure beats the haphazard organization of Amazon\\'s current Instant Video page, which mixes rows of new releases with bestsellers and personal recommendations. The move is the latest in a series of investment\\'s Amazon is making in its streaming video platform. Last week, the company inked a licensing agreement with A+E Networks to bring past seasons of shows from A&E, History, Lifetime and Bio to its streaming library \\xe2\\x80\\x94 shows, it should be noted, that Netflix subscribers lost access to in the fall. Amazon claims its streaming Prime catalog now numbers more than 33,000, double what it was a year ago. Screenshot courtesy of Amazon.com'"
      ]
     },
     "execution_count": 14,
     "metadata": {},
     "output_type": "execute_result"
    }
   ],
   "source": [
    "content = reduce(lambda x,y: x + ' ' + y, content_list)\n",
    "content"
   ]
  },
  {
   "cell_type": "code",
   "execution_count": 15,
   "metadata": {
    "collapsed": false
   },
   "outputs": [
    {
     "data": {
      "text/plain": [
       "4"
      ]
     },
     "execution_count": 15,
     "metadata": {},
     "output_type": "execute_result"
    }
   ],
   "source": [
    "len(soup.find('footer', class_='article-topics').find_all('a'))"
   ]
  },
  {
   "cell_type": "code",
   "execution_count": 16,
   "metadata": {
    "collapsed": true
   },
   "outputs": [],
   "source": [
    "test_url = mash_url[1]"
   ]
  },
  {
   "cell_type": "code",
   "execution_count": 17,
   "metadata": {
    "collapsed": true
   },
   "outputs": [],
   "source": [
    "response = requests.get(test_url)\n",
    "assert response.status_code == 200\n",
    "soup = BeautifulSoup(response.text)"
   ]
  },
  {
   "cell_type": "code",
   "execution_count": 18,
   "metadata": {
    "collapsed": false
   },
   "outputs": [
    {
     "data": {
      "text/plain": [
       "u\"AP's Twitter to Begin Displaying Sponsored Tweets\""
      ]
     },
     "execution_count": 18,
     "metadata": {},
     "output_type": "execute_result"
    }
   ],
   "source": [
    "soup.title.text"
   ]
  },
  {
   "cell_type": "code",
   "execution_count": 19,
   "metadata": {
    "collapsed": false
   },
   "outputs": [
    {
     "data": {
      "text/plain": [
       "u\"AP's Twitter to Begin Displaying Sponsored Tweets\""
      ]
     },
     "execution_count": 19,
     "metadata": {},
     "output_type": "execute_result"
    }
   ],
   "source": [
    "soup.find('h1', class_='title').text"
   ]
  },
  {
   "cell_type": "code",
   "execution_count": 20,
   "metadata": {
    "collapsed": true
   },
   "outputs": [],
   "source": [
    "content_list = [text.text.encode('utf-8') \n",
    "                for text in soup.find('section',\n",
    "                class_='article-content').find_all('p')]"
   ]
  },
  {
   "cell_type": "code",
   "execution_count": 21,
   "metadata": {
    "collapsed": false
   },
   "outputs": [
    {
     "data": {
      "text/plain": [
       "'The Associated Press is the latest news organization to experiment with trying to make money from Twitter by using its feed to advertise for other companies.  The AP announced Monday that it will share sponsored tweets from Samsung throughout this week for the International CES taking place in Las Vegas. The news service will let Samsung post two tweets per day to the AP\\'s Twitter account, which has more than 1.5 million users, and each of these tweets will be labeled \"SPONSORED TWEETS.\" This marks the first time that the AP has sold advertising on its Twitter feed, and the company says it spent months developing guidelines to pave the way for this and other new media business models.  For this particular promotion, Samsung will provide the sponsored tweets and non-editorial staff at the AP will handle the publishing side. In this way, the company hopes to maintain a clear dividing line between its editorial and advertising operations on Twitter. \"We are thrilled to be taking this next step in social media,\" said Lou Ferrara, the AP managing editor overseeing its social media efforts, in a statement. \"As an industry, we must be looking for new ways to develop revenues while providing good experiences for advertisers and consumers. At the same time, advertisers and audiences expect AP to do that without compromising its core mission of breaking news.\"  Other publishers have dabbled in Twitter ads, including The Atlantic, National Journal, The Times-Picayune and BreakingNews.com. Image courtesy of Flickr, nan palmero'"
      ]
     },
     "execution_count": 21,
     "metadata": {},
     "output_type": "execute_result"
    }
   ],
   "source": [
    "content = reduce(lambda x,y: x + ' ' + y, content_list)\n",
    "content"
   ]
  },
  {
   "cell_type": "code",
   "execution_count": 22,
   "metadata": {
    "collapsed": true
   },
   "outputs": [],
   "source": [
    "def get_mashable_content(url):\n",
    "    \n",
    "    # request html data and create soup\n",
    "    response = requests.get(url)\n",
    "    \n",
    "    if response.status_code == 200:\n",
    "\n",
    "        soup = BeautifulSoup(response.text, 'html.parser')\n",
    "        \n",
    "        # get article title\n",
    "        try: \n",
    "            title = soup.find('h1', class_='title').text\n",
    "        except:\n",
    "            title = None\n",
    "            \n",
    "        # get article content\n",
    "        try:\n",
    "            content_list_temp = [text.text.encode('utf-8') \n",
    "                                 for text \n",
    "                                 in soup.find('section', \n",
    "                                 class_='article-content').find_all('p')]\n",
    "\n",
    "            content = reduce(lambda x,y: x + ' ' + y, content_list_temp)\n",
    "        except:\n",
    "            content = None\n",
    "\n",
    "        # get number of tags\n",
    "        try:\n",
    "            num_tags = len(soup.find('footer', \n",
    "                           class_='article-topics').find_all('a'))\n",
    "        except:\n",
    "            num_tags = None\n",
    "            \n",
    "    else:\n",
    "        title = None\n",
    "        content = None\n",
    "        num_tags = None\n",
    "        \n",
    "    content_list.append(content)\n",
    "    title_list.append(title)\n",
    "    tags_list.append(num_tags)"
   ]
  },
  {
   "cell_type": "code",
   "execution_count": 23,
   "metadata": {
    "collapsed": true
   },
   "outputs": [],
   "source": [
    "def scape_list(url_list):\n",
    "    # create progress counter\n",
    "    progress_counter = 0\n",
    "\n",
    "    # get data from url\n",
    "    for url in url_list:\n",
    "        get_mashable_content(url)\n",
    "\n",
    "        # show progress\n",
    "        progress_counter += 1\n",
    "        print progress_counter"
   ]
  },
  {
   "cell_type": "code",
   "execution_count": 24,
   "metadata": {
    "collapsed": true
   },
   "outputs": [],
   "source": [
    "title_list = []\n",
    "content_list = []\n",
    "tags_list = []"
   ]
  },
  {
   "cell_type": "code",
   "execution_count": 25,
   "metadata": {
    "collapsed": false
   },
   "outputs": [
    {
     "name": "stdout",
     "output_type": "stream",
     "text": [
      "1\n",
      "2\n",
      "3\n",
      "4\n",
      "5\n",
      "6\n",
      "7\n",
      "8\n",
      "9\n",
      "10\n"
     ]
    }
   ],
   "source": [
    "scape_list(mash_url[:10])"
   ]
  },
  {
   "cell_type": "code",
   "execution_count": 26,
   "metadata": {
    "collapsed": false
   },
   "outputs": [
    {
     "data": {
      "text/plain": [
       "[u\"Amazon's Streaming Video Library Now a Little Easier to Navigate\",\n",
       " u\"AP's Twitter to Begin Displaying Sponsored Tweets\",\n",
       " u\"Apple's App Store Passes 40 Billion Downloads\",\n",
       " u'This Astronaut Is Rooting for Notre Dame Tonight',\n",
       " u'New U-Verse Apps Simplify Sharing Photos and Videos on Your TV',\n",
       " u\"BeeWi's Smart Toys Put Your Smartphone in Control\",\n",
       " u'BodyMedia Fitness Armband Gets a Fashion Upgrade',\n",
       " u\"Canon PowerShot N Thinks Creatively So You Don't Have To\",\n",
       " u'Infographic: The Self-Driving, Ultra-Connected Car of the Future',\n",
       " u'Obama Defense Nominee Chuck Hagel Targeted by Smear Website']"
      ]
     },
     "execution_count": 26,
     "metadata": {},
     "output_type": "execute_result"
    }
   ],
   "source": [
    "title_list"
   ]
  },
  {
   "cell_type": "code",
   "execution_count": 27,
   "metadata": {
    "collapsed": false
   },
   "outputs": [
    {
     "data": {
      "text/plain": [
       "'Mere hours after President Barack Obama put forth Chuck Hagel as his choice for Secretary of Defense, a pro-Israel group launched a website with the goal of scuttling the nomination.  The website, ChuckHagel.com, was launched by the Emergency Committee for Israel, and claims that Hagel \"is not a responsible option\" for the cabinet position.  The Emergency Committee for Israel is described on its website as \"committed to mounting an active defense of the U.S.-Israel relationship by educating the public about the positions of political candidates on this important issue.\" The interest group, led by right-wing commentator and Weekly Standard Editor Bill Kristol, has already posted an anti-Hagel video to YouTube that knocks his stance on economic sanctions and military action against Iran.   Hagel, a former senator from Nebraska, has in previous comments said that military action against Iran would be ill-advised. He has been criticized by many conservatives and some liberals for those stances and for being, in their view, insufficiently supportive of Israel.  The brewing controversy over Hagel\\'s nomination is leading some analysts to expect less than smooth sailing when the Senate votes on his nomination. The committee also plans to buy ad placements on Google that will appear when users search for \"Chuck Hagel,\" according to Yahoo. Photo via Mark Wilson/Getty Images News/Getty Images; Image courtesy of ChuckHagel.com'"
      ]
     },
     "execution_count": 27,
     "metadata": {},
     "output_type": "execute_result"
    }
   ],
   "source": [
    "content_list[9]"
   ]
  },
  {
   "cell_type": "code",
   "execution_count": 28,
   "metadata": {
    "collapsed": false
   },
   "outputs": [
    {
     "data": {
      "text/plain": [
       "[4, 3, 5, 4, 5, 5, 9, 6, 4, 3]"
      ]
     },
     "execution_count": 28,
     "metadata": {},
     "output_type": "execute_result"
    }
   ],
   "source": [
    "tags_list"
   ]
  },
  {
   "cell_type": "code",
   "execution_count": 29,
   "metadata": {
    "collapsed": true
   },
   "outputs": [],
   "source": [
    "mash_url_df = mash_df.url"
   ]
  },
  {
   "cell_type": "code",
   "execution_count": 30,
   "metadata": {
    "collapsed": true
   },
   "outputs": [],
   "source": [
    "mash_url_df.to_csv('url.csv', \n",
    "                   index=False,\n",
    "                   header=True)"
   ]
  },
  {
   "cell_type": "code",
   "execution_count": 31,
   "metadata": {
    "collapsed": true
   },
   "outputs": [],
   "source": [
    "import pymongo"
   ]
  },
  {
   "cell_type": "code",
   "execution_count": 32,
   "metadata": {
    "collapsed": true
   },
   "outputs": [],
   "source": [
    "client = pymongo.MongoClient()\n",
    "db = client.mashable\n",
    "collection = client.mashable.articles"
   ]
  },
  {
   "cell_type": "code",
   "execution_count": 33,
   "metadata": {
    "collapsed": false
   },
   "outputs": [],
   "source": [
    "test_url = collection.find_one()['url']"
   ]
  },
  {
   "cell_type": "code",
   "execution_count": 34,
   "metadata": {
    "collapsed": false
   },
   "outputs": [
    {
     "data": {
      "text/plain": [
       "u'http://mashable.com/2013/01/07/ap-samsung-sponsored-tweets/'"
      ]
     },
     "execution_count": 34,
     "metadata": {},
     "output_type": "execute_result"
    }
   ],
   "source": [
    "test_url"
   ]
  },
  {
   "cell_type": "code",
   "execution_count": 35,
   "metadata": {
    "collapsed": true
   },
   "outputs": [],
   "source": [
    "response = requests.get(test_url)\n",
    "assert response.status_code == 200\n",
    "soup = BeautifulSoup(response.text)"
   ]
  },
  {
   "cell_type": "code",
   "execution_count": 36,
   "metadata": {
    "collapsed": false
   },
   "outputs": [
    {
     "data": {
      "text/plain": [
       "u\"AP's Twitter to Begin Displaying Sponsored Tweets\""
      ]
     },
     "execution_count": 36,
     "metadata": {},
     "output_type": "execute_result"
    }
   ],
   "source": [
    "soup.find('h1', class_='title').text"
   ]
  },
  {
   "cell_type": "code",
   "execution_count": 38,
   "metadata": {
    "collapsed": false
   },
   "outputs": [
    {
     "data": {
      "text/plain": [
       "'The Associated Press is the latest news organization to experiment with trying to make money from Twitter by using its feed to advertise for other companies.  The AP announced Monday that it will share sponsored tweets from Samsung throughout this week for the International CES taking place in Las Vegas. The news service will let Samsung post two tweets per day to the AP\\'s Twitter account, which has more than 1.5 million users, and each of these tweets will be labeled \"SPONSORED TWEETS.\" This marks the first time that the AP has sold advertising on its Twitter feed, and the company says it spent months developing guidelines to pave the way for this and other new media business models.  For this particular promotion, Samsung will provide the sponsored tweets and non-editorial staff at the AP will handle the publishing side. In this way, the company hopes to maintain a clear dividing line between its editorial and advertising operations on Twitter. \"We are thrilled to be taking this next step in social media,\" said Lou Ferrara, the AP managing editor overseeing its social media efforts, in a statement. \"As an industry, we must be looking for new ways to develop revenues while providing good experiences for advertisers and consumers. At the same time, advertisers and audiences expect AP to do that without compromising its core mission of breaking news.\"  Other publishers have dabbled in Twitter ads, including The Atlantic, National Journal, The Times-Picayune and BreakingNews.com. Image courtesy of Flickr, nan palmero'"
      ]
     },
     "execution_count": 38,
     "metadata": {},
     "output_type": "execute_result"
    }
   ],
   "source": [
    "content_list = [text.text.encode('utf-8') for text in soup.find('section', class_='article-content').find_all('p')]\n",
    "content = reduce(lambda x,y: x + ' ' + y, content_list)\n",
    "content"
   ]
  },
  {
   "cell_type": "code",
   "execution_count": 39,
   "metadata": {
    "collapsed": false
   },
   "outputs": [
    {
     "data": {
      "text/plain": [
       "3"
      ]
     },
     "execution_count": 39,
     "metadata": {},
     "output_type": "execute_result"
    }
   ],
   "source": [
    "len(soup.find('footer', class_='article-topics').find_all('a'))"
   ]
  },
  {
   "cell_type": "code",
   "execution_count": 40,
   "metadata": {
    "collapsed": true
   },
   "outputs": [],
   "source": [
    "def get_mashable_content(doc):\n",
    "    \n",
    "    # request html data and create soup\n",
    "    response = requests.get(doc['url'])\n",
    "    \n",
    "    if response.status_code == 200:\n",
    "\n",
    "        soup = BeautifulSoup(response.text, 'html.parser')\n",
    "        \n",
    "        # get article title\n",
    "        try: \n",
    "            title = soup.find('h1', class_='title').text\n",
    "        except:\n",
    "            title = None\n",
    "            \n",
    "        # get article content\n",
    "        try:\n",
    "            content_list_temp = [text.text.encode('utf-8') \n",
    "                                 for text \n",
    "                                 in soup.find('section', \n",
    "                                 class_='article-content').find_all('p')]\n",
    "\n",
    "            content = reduce(lambda x,y: x + ' ' + y, content_list_temp)\n",
    "        except:\n",
    "            content = None\n",
    "\n",
    "        # get number of tags\n",
    "        try:\n",
    "            num_tags = len(soup.find('footer', \n",
    "                           class_='article-topics').find_all('a'))\n",
    "        except:\n",
    "            num_tags = None\n",
    "            \n",
    "    else:\n",
    "        title = None\n",
    "        content = None\n",
    "        num_tags = None\n",
    "        \n",
    "    collection.update_one({\"_id\": doc[\"_id\"]}, {\"$set\": {\"title\": title, \n",
    "                                                      \"content\": content,\n",
    "                                                      \"num_tags\": num_tags}})"
   ]
  }
 ],
 "metadata": {
  "kernelspec": {
   "display_name": "Python 2",
   "language": "python",
   "name": "python2"
  },
  "language_info": {
   "codemirror_mode": {
    "name": "ipython",
    "version": 2
   },
   "file_extension": ".py",
   "mimetype": "text/x-python",
   "name": "python",
   "nbconvert_exporter": "python",
   "pygments_lexer": "ipython2",
   "version": "2.7.10"
  }
 },
 "nbformat": 4,
 "nbformat_minor": 0
}
