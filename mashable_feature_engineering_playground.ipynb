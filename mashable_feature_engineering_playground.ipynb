{
 "cells": [
  {
   "cell_type": "code",
   "execution_count": null,
   "metadata": {
    "collapsed": false
   },
   "outputs": [],
   "source": [
    "import numpy as np\n",
    "import pandas as pd\n",
    "from __future__ import division"
   ]
  },
  {
   "cell_type": "code",
   "execution_count": null,
   "metadata": {
    "collapsed": true
   },
   "outputs": [],
   "source": [
    "mash_df = pd.read_csv('OnlineNewsPopularity.csv')"
   ]
  },
  {
   "cell_type": "code",
   "execution_count": null,
   "metadata": {
    "collapsed": true
   },
   "outputs": [],
   "source": [
    "mash_url = mash_df.url.values.tolist()"
   ]
  },
  {
   "cell_type": "code",
   "execution_count": null,
   "metadata": {
    "collapsed": false
   },
   "outputs": [],
   "source": [
    "mash_df.columns.values"
   ]
  },
  {
   "cell_type": "code",
   "execution_count": null,
   "metadata": {
    "collapsed": false
   },
   "outputs": [],
   "source": [
    "len(mash_url)"
   ]
  },
  {
   "cell_type": "code",
   "execution_count": null,
   "metadata": {
    "collapsed": false
   },
   "outputs": [],
   "source": [
    "mash_url[:2]"
   ]
  },
  {
   "cell_type": "code",
   "execution_count": null,
   "metadata": {
    "collapsed": false
   },
   "outputs": [],
   "source": [
    "test_url = 'http://mashable.com/2013/01/07/hillary-clinton-helmet/'"
   ]
  },
  {
   "cell_type": "code",
   "execution_count": null,
   "metadata": {
    "collapsed": false
   },
   "outputs": [],
   "source": [
    "test_url"
   ]
  },
  {
   "cell_type": "code",
   "execution_count": null,
   "metadata": {
    "collapsed": true
   },
   "outputs": [],
   "source": [
    "import requests\n",
    "from bs4 import BeautifulSoup\n",
    "import re\n",
    "from pprint import pprint"
   ]
  },
  {
   "cell_type": "code",
   "execution_count": null,
   "metadata": {
    "collapsed": true
   },
   "outputs": [],
   "source": [
    "# request html data and create soup\n",
    "response = requests.get(test_url)\n",
    "assert response.status_code == 200\n",
    "soup = BeautifulSoup(response.text)"
   ]
  },
  {
   "cell_type": "code",
   "execution_count": null,
   "metadata": {
    "collapsed": false
   },
   "outputs": [],
   "source": [
    "headline = soup.find('h1', class_='title').text\n",
    "headline"
   ]
  },
  {
   "cell_type": "code",
   "execution_count": null,
   "metadata": {
    "collapsed": false
   },
   "outputs": [],
   "source": [
    "content_list = [text.text.encode('utf-8') \n",
    "                for text \n",
    "                in soup.find('section', \n",
    "                class_='article-content').find_all('p')]\n",
    "content = reduce(lambda x,y: x + ' ' + y, content_list)\n",
    "content"
   ]
  },
  {
   "cell_type": "markdown",
   "metadata": {},
   "source": [
    "### Header Features"
   ]
  },
  {
   "cell_type": "code",
   "execution_count": null,
   "metadata": {
    "collapsed": false
   },
   "outputs": [],
   "source": [
    "headline.split()"
   ]
  },
  {
   "cell_type": "code",
   "execution_count": null,
   "metadata": {
    "collapsed": false
   },
   "outputs": [],
   "source": [
    "# number of words in title\n",
    "n_tokens_title = len(headline.split())\n",
    "n_tokens_title"
   ]
  },
  {
   "cell_type": "code",
   "execution_count": null,
   "metadata": {
    "collapsed": true
   },
   "outputs": [],
   "source": [
    "import nltk\n",
    "from textblob import TextBlob"
   ]
  },
  {
   "cell_type": "code",
   "execution_count": null,
   "metadata": {
    "collapsed": false
   },
   "outputs": [],
   "source": [
    "# subjectivity\n",
    "title_subjectivity = TextBlob(headline).subjectivity\n",
    "title_subjectivity"
   ]
  },
  {
   "cell_type": "code",
   "execution_count": null,
   "metadata": {
    "collapsed": false
   },
   "outputs": [],
   "source": [
    "# polarity\n",
    "title_sentiment_polarity = TextBlob(headline).polarity\n",
    "title_sentiment_polarity"
   ]
  },
  {
   "cell_type": "code",
   "execution_count": null,
   "metadata": {
    "collapsed": false
   },
   "outputs": [],
   "source": [
    "# absolute value polarirty\n",
    "title_sentiment_abs_polarity = abs(title_sentiment_polarity)\n",
    "title_sentiment_abs_polarity"
   ]
  },
  {
   "cell_type": "code",
   "execution_count": null,
   "metadata": {
    "collapsed": true
   },
   "outputs": [],
   "source": [
    "import string"
   ]
  },
  {
   "cell_type": "code",
   "execution_count": null,
   "metadata": {
    "collapsed": false
   },
   "outputs": [],
   "source": [
    "# average word length\n",
    "average_token_length_title = np.mean([len(w) for w \n",
    "                                      in \"\".join(c for c in headline \n",
    "                                                 if c not in string.punctuation).split()])\n",
    "average_token_length_title"
   ]
  },
  {
   "cell_type": "markdown",
   "metadata": {},
   "source": [
    "### Content Features"
   ]
  },
  {
   "cell_type": "code",
   "execution_count": null,
   "metadata": {
    "collapsed": false
   },
   "outputs": [],
   "source": [
    "# number of words\n",
    "n_tokens_content = len([w for w in content.split()])\n",
    "n_tokens_content"
   ]
  },
  {
   "cell_type": "code",
   "execution_count": null,
   "metadata": {
    "collapsed": false
   },
   "outputs": [],
   "source": [
    "from nltk.corpus import stopwords\n",
    "stop = stopwords.words('english')"
   ]
  },
  {
   "cell_type": "code",
   "execution_count": null,
   "metadata": {
    "collapsed": false
   },
   "outputs": [],
   "source": [
    "# rate of unique words\n",
    "r_unique_tokens = len(set([w.lower().decode('utf-8')\n",
    "                           for w \n",
    "                           in \"\".join(c for c in content \n",
    "                                      if c not in string.punctuation).split()]))/n_tokens_content\n",
    "r_unique_tokens"
   ]
  },
  {
   "cell_type": "code",
   "execution_count": null,
   "metadata": {
    "collapsed": false
   },
   "outputs": [],
   "source": [
    "# rate of non-stop word\n",
    "r_non_stop_words = len([w.lower().decode('utf-8') \n",
    "                        for w in \"\".join(c for c in content \n",
    "                                         if c not in string.punctuation).split() \n",
    "                        if w.decode('utf-8') \n",
    "                        not in stop])/n_tokens_content\n",
    "r_non_stop_words"
   ]
  },
  {
   "cell_type": "code",
   "execution_count": null,
   "metadata": {
    "collapsed": false
   },
   "outputs": [],
   "source": [
    "# rate of unique non-stop word\n",
    "r_non_stop_unique_tokens = len(set([w.lower().decode('utf-8') \n",
    "                           for w in \"\".join(c for c in content \n",
    "                                            if c not in string.punctuation).split() \n",
    "                           if w.decode('utf-8') \n",
    "                           not in stop]))/n_tokens_content\n",
    "r_non_stop_unique_tokens"
   ]
  },
  {
   "cell_type": "code",
   "execution_count": null,
   "metadata": {
    "collapsed": false
   },
   "outputs": [],
   "source": [
    "# average word length\n",
    "average_token_length_content = np.mean([len(w) for w \n",
    "                                        in \"\".join(c for c in content\n",
    "                                                   if c not in string.punctuation).split()])\n",
    "average_token_length_content"
   ]
  },
  {
   "cell_type": "code",
   "execution_count": null,
   "metadata": {
    "collapsed": false
   },
   "outputs": [],
   "source": [
    "# subjectivity\n",
    "global_subjectivity = TextBlob(content.decode('utf-8')).subjectivity\n",
    "global_subjectivity"
   ]
  },
  {
   "cell_type": "code",
   "execution_count": null,
   "metadata": {
    "collapsed": false
   },
   "outputs": [],
   "source": [
    "# polarity\n",
    "global_sentiment_polarity = TextBlob(content.decode('utf-8')).polarity\n",
    "global_sentiment_polarity"
   ]
  },
  {
   "cell_type": "code",
   "execution_count": null,
   "metadata": {
    "collapsed": false
   },
   "outputs": [],
   "source": [
    "# absolute polarity\n",
    "global_sentiment_abs_polarity = abs(global_sentiment_polarity)\n",
    "global_sentiment_abs_polarity"
   ]
  },
  {
   "cell_type": "code",
   "execution_count": null,
   "metadata": {
    "collapsed": false
   },
   "outputs": [],
   "source": [
    "# get polarity by word\n",
    "polarity_list = [(w.decode('utf-8'), TextBlob(w.decode('utf-8')).polarity) \n",
    "                 for w in \"\".join(c for c in content \n",
    "                                  if c not in string.punctuation).split()]\n",
    "len(polarity_list)"
   ]
  },
  {
   "cell_type": "code",
   "execution_count": null,
   "metadata": {
    "collapsed": false
   },
   "outputs": [],
   "source": [
    "# global positive word rate\n",
    "global_rate_positive_words = len([(w,p) \n",
    "                                  for (w,p) \n",
    "                                  in polarity_list \n",
    "                                  if p > 0])/len(polarity_list)\n",
    "global_rate_positive_words"
   ]
  },
  {
   "cell_type": "code",
   "execution_count": null,
   "metadata": {
    "collapsed": false
   },
   "outputs": [],
   "source": [
    "# global negative word rate\n",
    "global_rate_negative_words = len([(w,p) \n",
    "                                  for (w,p) \n",
    "                                  in polarity_list \n",
    "                                  if p < 0])/len(polarity_list)\n",
    "global_rate_negative_words"
   ]
  },
  {
   "cell_type": "code",
   "execution_count": null,
   "metadata": {
    "collapsed": false
   },
   "outputs": [],
   "source": [
    "# positive word rate (among non-nuetral words)\n",
    "if [(w,p) for (w,p) in polarity_list if p != 0]:\n",
    "    rate_positive_words = len([(w,p) \n",
    "                               for (w,p) \n",
    "                               in polarity_list \n",
    "                               if p > 0])/len([(w,p) \n",
    "                                               for (w,p) \n",
    "                                               in polarity_list \n",
    "                                               if p != 0])\n",
    "else:\n",
    "    rate_positive_words = 0\n",
    "rate_positive_words"
   ]
  },
  {
   "cell_type": "code",
   "execution_count": null,
   "metadata": {
    "collapsed": false
   },
   "outputs": [],
   "source": [
    "# negative word rate (among non-nuetral words)\n",
    "if [(w,p) for (w,p) in polarity_list if p != 0]:\n",
    "    rate_negative_words = len([(w,p) \n",
    "                               for (w,p) \n",
    "                               in polarity_list \n",
    "                               if p < 0])/len([(w,p) \n",
    "                                               for (w,p) \n",
    "                                               in polarity_list \n",
    "                                               if p != 0])\n",
    "else:\n",
    "    rate_negative_words = 0\n",
    "rate_negative_words"
   ]
  },
  {
   "cell_type": "code",
   "execution_count": null,
   "metadata": {
    "collapsed": false
   },
   "outputs": [],
   "source": [
    "# average polarity of positive words\n",
    "if [p for (w,p) in polarity_list if p > 0]:\n",
    "    avg_positive_polarity = np.mean([p for (w,p) \n",
    "                                     in polarity_list \n",
    "                                     if p > 0])\n",
    "else:\n",
    "    avg_positive_polarity = 0\n",
    "    \n",
    "avg_positive_polarity"
   ]
  },
  {
   "cell_type": "code",
   "execution_count": null,
   "metadata": {
    "collapsed": false
   },
   "outputs": [],
   "source": [
    "# minimum polarity of positive words\n",
    "if [p for (w,p) in polarity_list if p > 0]:\n",
    "    min_positive_polarity = min([p for (w,p) \n",
    "                                 in polarity_list \n",
    "                                 if p > 0])\n",
    "else:\n",
    "    min_positive_polarity = 0\n",
    "min_positive_polarity"
   ]
  },
  {
   "cell_type": "code",
   "execution_count": null,
   "metadata": {
    "collapsed": false
   },
   "outputs": [],
   "source": [
    "# maximum polarity of positive words\n",
    "if [p for (w,p) in polarity_list if p > 0]:\n",
    "    max_positive_polarity = max([p for (w,p) \n",
    "                                 in polarity_list \n",
    "                                 if p > 0])\n",
    "else: \n",
    "    max_positive_polarity = 0\n",
    "max_positive_polarity"
   ]
  },
  {
   "cell_type": "code",
   "execution_count": null,
   "metadata": {
    "collapsed": false
   },
   "outputs": [],
   "source": [
    "# average polarity of negative words\n",
    "if [p for (w,p) in polarity_list if p < 0]:\n",
    "    avg_negative_polarity = np.mean([p for (w,p) \n",
    "                                     in polarity_list \n",
    "                                     if p < 0])\n",
    "else:\n",
    "    avg_negative_polarity = 0\n",
    "avg_negative_polarity"
   ]
  },
  {
   "cell_type": "code",
   "execution_count": null,
   "metadata": {
    "collapsed": false
   },
   "outputs": [],
   "source": [
    "# minimum polarity of negative words\n",
    "if [p for (w,p) in polarity_list if p < 0]:\n",
    "    min_negative_polarity = min([p for (w,p) \n",
    "                                 in polarity_list \n",
    "                                 if p < 0])\n",
    "else:\n",
    "    min_negative_polarity = 0\n",
    "min_negative_polarity"
   ]
  },
  {
   "cell_type": "code",
   "execution_count": null,
   "metadata": {
    "collapsed": false
   },
   "outputs": [],
   "source": [
    "# maximum polarity of negative words\n",
    "if [p for (w,p) in polarity_list if p < 0]:\n",
    "    max_negative_polarity = max([p for (w,p) \n",
    "                             in polarity_list \n",
    "                             if p < 0])\n",
    "else:\n",
    "    max_negative_polarity = 0\n",
    "max_negative_polarity"
   ]
  },
  {
   "cell_type": "code",
   "execution_count": null,
   "metadata": {
    "collapsed": false
   },
   "outputs": [],
   "source": [
    "# abs maximum polarity, sum of abs of max positive and abs of min negative polarity\n",
    "max_abs_polarity = max_positive_polarity + abs(min_negative_polarity)\n",
    "max_abs_polarity"
   ]
  },
  {
   "cell_type": "code",
   "execution_count": null,
   "metadata": {
    "collapsed": false
   },
   "outputs": [],
   "source": [
    "from textstat.textstat import textstat"
   ]
  },
  {
   "cell_type": "code",
   "execution_count": null,
   "metadata": {
    "collapsed": false
   },
   "outputs": [],
   "source": [
    "# Flesch Reading Ease\n",
    "global_reading_ease = textstat.flesch_reading_ease(content.decode('utf-8'))\n",
    "global_reading_ease"
   ]
  },
  {
   "cell_type": "code",
   "execution_count": null,
   "metadata": {
    "collapsed": false
   },
   "outputs": [],
   "source": [
    "# Flesch Kincaid Grade Level\n",
    "global_grade_level = textstat.flesch_kincaid_grade(content.decode('utf-8'))\n",
    "global_grade_level"
   ]
  },
  {
   "cell_type": "code",
   "execution_count": null,
   "metadata": {
    "collapsed": true
   },
   "outputs": [],
   "source": [
    "import pymongo"
   ]
  },
  {
   "cell_type": "code",
   "execution_count": null,
   "metadata": {
    "collapsed": false
   },
   "outputs": [],
   "source": [
    "# connect to mongo db collection\n",
    "client = pymongo.MongoClient()\n",
    "db = client.mashable\n",
    "collection = client.mashable.articles"
   ]
  },
  {
   "cell_type": "code",
   "execution_count": null,
   "metadata": {
    "collapsed": false
   },
   "outputs": [],
   "source": [
    "test = collection.find_one()"
   ]
  },
  {
   "cell_type": "code",
   "execution_count": null,
   "metadata": {
    "collapsed": false
   },
   "outputs": [],
   "source": [
    "test"
   ]
  }
 ],
 "metadata": {
  "kernelspec": {
   "display_name": "Python 2",
   "language": "python",
   "name": "python2"
  },
  "language_info": {
   "codemirror_mode": {
    "name": "ipython",
    "version": 2
   },
   "file_extension": ".py",
   "mimetype": "text/x-python",
   "name": "python",
   "nbconvert_exporter": "python",
   "pygments_lexer": "ipython2",
   "version": "2.7.10"
  }
 },
 "nbformat": 4,
 "nbformat_minor": 0
}
